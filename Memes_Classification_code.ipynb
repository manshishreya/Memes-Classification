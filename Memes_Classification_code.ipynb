{
 "cells": [
  {
   "cell_type": "markdown",
   "id": "3501e539",
   "metadata": {},
   "source": [
    "#          Hateful Memes Classification"
   ]
  },
  {
   "cell_type": "markdown",
   "id": "cdc67dab",
   "metadata": {},
   "source": [
    "# Importing libraries"
   ]
  },
  {
   "cell_type": "code",
   "execution_count": 1,
   "id": "c9b1eb43",
   "metadata": {},
   "outputs": [],
   "source": [
    "import pandas as pd\n",
    "import numpy as np\n",
    "import matplotlib.pyplot as plt\n",
    "import seaborn as sns\n",
    "import warnings\n",
    "warnings.filterwarnings(\"ignore\")\n",
    "%matplotlib inline"
   ]
  },
  {
   "cell_type": "code",
   "execution_count": 2,
   "id": "3e65913d",
   "metadata": {},
   "outputs": [],
   "source": [
    "#Reading the dataset from jsonl file\n",
    "train_data = pd.read_json(\"data/train.jsonl\",lines=True)\n",
    "test_data = pd.read_json(\"data/dev.jsonl\",lines=True)"
   ]
  },
  {
   "cell_type": "code",
   "execution_count": 3,
   "id": "4df598b8",
   "metadata": {},
   "outputs": [
    {
     "data": {
      "text/plain": [
       "(8500, 4)"
      ]
     },
     "execution_count": 3,
     "metadata": {},
     "output_type": "execute_result"
    }
   ],
   "source": [
    "train_data.shape"
   ]
  },
  {
   "cell_type": "code",
   "execution_count": 4,
   "id": "9dd039b7",
   "metadata": {},
   "outputs": [
    {
     "data": {
      "text/plain": [
       "(500, 4)"
      ]
     },
     "execution_count": 4,
     "metadata": {},
     "output_type": "execute_result"
    }
   ],
   "source": [
    "test_data.shape"
   ]
  },
  {
   "cell_type": "code",
   "execution_count": 5,
   "id": "7e083b89",
   "metadata": {},
   "outputs": [
    {
     "data": {
      "text/html": [
       "<div>\n",
       "<style scoped>\n",
       "    .dataframe tbody tr th:only-of-type {\n",
       "        vertical-align: middle;\n",
       "    }\n",
       "\n",
       "    .dataframe tbody tr th {\n",
       "        vertical-align: top;\n",
       "    }\n",
       "\n",
       "    .dataframe thead th {\n",
       "        text-align: right;\n",
       "    }\n",
       "</style>\n",
       "<table border=\"1\" class=\"dataframe\">\n",
       "  <thead>\n",
       "    <tr style=\"text-align: right;\">\n",
       "      <th></th>\n",
       "      <th>id</th>\n",
       "      <th>img</th>\n",
       "      <th>label</th>\n",
       "      <th>text</th>\n",
       "    </tr>\n",
       "  </thead>\n",
       "  <tbody>\n",
       "    <tr>\n",
       "      <th>0</th>\n",
       "      <td>42953</td>\n",
       "      <td>img/42953.png</td>\n",
       "      <td>0</td>\n",
       "      <td>its their character not their color that matters</td>\n",
       "    </tr>\n",
       "    <tr>\n",
       "      <th>1</th>\n",
       "      <td>23058</td>\n",
       "      <td>img/23058.png</td>\n",
       "      <td>0</td>\n",
       "      <td>don't be afraid to love again everyone is not ...</td>\n",
       "    </tr>\n",
       "    <tr>\n",
       "      <th>2</th>\n",
       "      <td>13894</td>\n",
       "      <td>img/13894.png</td>\n",
       "      <td>0</td>\n",
       "      <td>putting bows on your pet</td>\n",
       "    </tr>\n",
       "    <tr>\n",
       "      <th>3</th>\n",
       "      <td>37408</td>\n",
       "      <td>img/37408.png</td>\n",
       "      <td>0</td>\n",
       "      <td>i love everything and everybody! except for sq...</td>\n",
       "    </tr>\n",
       "    <tr>\n",
       "      <th>4</th>\n",
       "      <td>82403</td>\n",
       "      <td>img/82403.png</td>\n",
       "      <td>0</td>\n",
       "      <td>everybody loves chocolate chip cookies, even h...</td>\n",
       "    </tr>\n",
       "    <tr>\n",
       "      <th>5</th>\n",
       "      <td>16952</td>\n",
       "      <td>img/16952.png</td>\n",
       "      <td>0</td>\n",
       "      <td>go sports! do the thing! win the points!</td>\n",
       "    </tr>\n",
       "    <tr>\n",
       "      <th>6</th>\n",
       "      <td>76932</td>\n",
       "      <td>img/76932.png</td>\n",
       "      <td>0</td>\n",
       "      <td>fine you're right. now can we fucking drop it?</td>\n",
       "    </tr>\n",
       "    <tr>\n",
       "      <th>7</th>\n",
       "      <td>70914</td>\n",
       "      <td>img/70914.png</td>\n",
       "      <td>0</td>\n",
       "      <td>tattoos are bad for your health i know 5 milli...</td>\n",
       "    </tr>\n",
       "    <tr>\n",
       "      <th>8</th>\n",
       "      <td>2973</td>\n",
       "      <td>img/02973.png</td>\n",
       "      <td>0</td>\n",
       "      <td>how long can i run? till the chain tightens</td>\n",
       "    </tr>\n",
       "    <tr>\n",
       "      <th>9</th>\n",
       "      <td>58306</td>\n",
       "      <td>img/58306.png</td>\n",
       "      <td>0</td>\n",
       "      <td>what is he hiding? we need to see his tax retu...</td>\n",
       "    </tr>\n",
       "  </tbody>\n",
       "</table>\n",
       "</div>"
      ],
      "text/plain": [
       "      id            img  label  \\\n",
       "0  42953  img/42953.png      0   \n",
       "1  23058  img/23058.png      0   \n",
       "2  13894  img/13894.png      0   \n",
       "3  37408  img/37408.png      0   \n",
       "4  82403  img/82403.png      0   \n",
       "5  16952  img/16952.png      0   \n",
       "6  76932  img/76932.png      0   \n",
       "7  70914  img/70914.png      0   \n",
       "8   2973  img/02973.png      0   \n",
       "9  58306  img/58306.png      0   \n",
       "\n",
       "                                                text  \n",
       "0   its their character not their color that matters  \n",
       "1  don't be afraid to love again everyone is not ...  \n",
       "2                           putting bows on your pet  \n",
       "3  i love everything and everybody! except for sq...  \n",
       "4  everybody loves chocolate chip cookies, even h...  \n",
       "5           go sports! do the thing! win the points!  \n",
       "6     fine you're right. now can we fucking drop it?  \n",
       "7  tattoos are bad for your health i know 5 milli...  \n",
       "8        how long can i run? till the chain tightens  \n",
       "9  what is he hiding? we need to see his tax retu...  "
      ]
     },
     "execution_count": 5,
     "metadata": {},
     "output_type": "execute_result"
    }
   ],
   "source": [
    "train_data.head(10)"
   ]
  },
  {
   "cell_type": "code",
   "execution_count": 6,
   "id": "95c36a46",
   "metadata": {
    "scrolled": true
   },
   "outputs": [
    {
     "data": {
      "text/html": [
       "<div>\n",
       "<style scoped>\n",
       "    .dataframe tbody tr th:only-of-type {\n",
       "        vertical-align: middle;\n",
       "    }\n",
       "\n",
       "    .dataframe tbody tr th {\n",
       "        vertical-align: top;\n",
       "    }\n",
       "\n",
       "    .dataframe thead th {\n",
       "        text-align: right;\n",
       "    }\n",
       "</style>\n",
       "<table border=\"1\" class=\"dataframe\">\n",
       "  <thead>\n",
       "    <tr style=\"text-align: right;\">\n",
       "      <th></th>\n",
       "      <th>id</th>\n",
       "      <th>img</th>\n",
       "      <th>label</th>\n",
       "      <th>text</th>\n",
       "    </tr>\n",
       "  </thead>\n",
       "  <tbody>\n",
       "    <tr>\n",
       "      <th>0</th>\n",
       "      <td>8291</td>\n",
       "      <td>img/08291.png</td>\n",
       "      <td>1</td>\n",
       "      <td>white people is this a shooting range</td>\n",
       "    </tr>\n",
       "    <tr>\n",
       "      <th>1</th>\n",
       "      <td>46971</td>\n",
       "      <td>img/46971.png</td>\n",
       "      <td>1</td>\n",
       "      <td>bravery at its finest</td>\n",
       "    </tr>\n",
       "    <tr>\n",
       "      <th>2</th>\n",
       "      <td>3745</td>\n",
       "      <td>img/03745.png</td>\n",
       "      <td>1</td>\n",
       "      <td>your order comes to $37.50 and your white priv...</td>\n",
       "    </tr>\n",
       "    <tr>\n",
       "      <th>3</th>\n",
       "      <td>83745</td>\n",
       "      <td>img/83745.png</td>\n",
       "      <td>1</td>\n",
       "      <td>it is time.. to send these parasites back to t...</td>\n",
       "    </tr>\n",
       "    <tr>\n",
       "      <th>4</th>\n",
       "      <td>80243</td>\n",
       "      <td>img/80243.png</td>\n",
       "      <td>1</td>\n",
       "      <td>mississippi wind chime</td>\n",
       "    </tr>\n",
       "    <tr>\n",
       "      <th>5</th>\n",
       "      <td>5279</td>\n",
       "      <td>img/05279.png</td>\n",
       "      <td>1</td>\n",
       "      <td>knowing white people , that's probably the bab...</td>\n",
       "    </tr>\n",
       "    <tr>\n",
       "      <th>6</th>\n",
       "      <td>1796</td>\n",
       "      <td>img/01796.png</td>\n",
       "      <td>1</td>\n",
       "      <td>life hack #23 how to get stoned with no weed</td>\n",
       "    </tr>\n",
       "    <tr>\n",
       "      <th>7</th>\n",
       "      <td>53046</td>\n",
       "      <td>img/53046.png</td>\n",
       "      <td>1</td>\n",
       "      <td>you've heard of elf on a shelf, now get ready for</td>\n",
       "    </tr>\n",
       "    <tr>\n",
       "      <th>8</th>\n",
       "      <td>82301</td>\n",
       "      <td>img/82301.png</td>\n",
       "      <td>1</td>\n",
       "      <td>cooooooooooooon!!!!</td>\n",
       "    </tr>\n",
       "    <tr>\n",
       "      <th>9</th>\n",
       "      <td>31752</td>\n",
       "      <td>img/31752.png</td>\n",
       "      <td>1</td>\n",
       "      <td>when you get to choose your own mental illness</td>\n",
       "    </tr>\n",
       "  </tbody>\n",
       "</table>\n",
       "</div>"
      ],
      "text/plain": [
       "      id            img  label  \\\n",
       "0   8291  img/08291.png      1   \n",
       "1  46971  img/46971.png      1   \n",
       "2   3745  img/03745.png      1   \n",
       "3  83745  img/83745.png      1   \n",
       "4  80243  img/80243.png      1   \n",
       "5   5279  img/05279.png      1   \n",
       "6   1796  img/01796.png      1   \n",
       "7  53046  img/53046.png      1   \n",
       "8  82301  img/82301.png      1   \n",
       "9  31752  img/31752.png      1   \n",
       "\n",
       "                                                text  \n",
       "0              white people is this a shooting range  \n",
       "1                              bravery at its finest  \n",
       "2  your order comes to $37.50 and your white priv...  \n",
       "3  it is time.. to send these parasites back to t...  \n",
       "4                             mississippi wind chime  \n",
       "5  knowing white people , that's probably the bab...  \n",
       "6       life hack #23 how to get stoned with no weed  \n",
       "7  you've heard of elf on a shelf, now get ready for  \n",
       "8                                cooooooooooooon!!!!  \n",
       "9     when you get to choose your own mental illness  "
      ]
     },
     "execution_count": 6,
     "metadata": {},
     "output_type": "execute_result"
    }
   ],
   "source": [
    "test_data.head(10)"
   ]
  },
  {
   "cell_type": "code",
   "execution_count": 7,
   "id": "ef66e8c0",
   "metadata": {
    "scrolled": true
   },
   "outputs": [
    {
     "name": "stdout",
     "output_type": "stream",
     "text": [
      "<class 'pandas.core.frame.DataFrame'>\n",
      "RangeIndex: 8500 entries, 0 to 8499\n",
      "Data columns (total 4 columns):\n",
      " #   Column  Non-Null Count  Dtype \n",
      "---  ------  --------------  ----- \n",
      " 0   id      8500 non-null   int64 \n",
      " 1   img     8500 non-null   object\n",
      " 2   label   8500 non-null   int64 \n",
      " 3   text    8500 non-null   object\n",
      "dtypes: int64(2), object(2)\n",
      "memory usage: 265.8+ KB\n"
     ]
    }
   ],
   "source": [
    "train_data.info()"
   ]
  },
  {
   "cell_type": "code",
   "execution_count": 8,
   "id": "a3c84701",
   "metadata": {
    "scrolled": true
   },
   "outputs": [
    {
     "name": "stdout",
     "output_type": "stream",
     "text": [
      "<class 'pandas.core.frame.DataFrame'>\n",
      "RangeIndex: 500 entries, 0 to 499\n",
      "Data columns (total 4 columns):\n",
      " #   Column  Non-Null Count  Dtype \n",
      "---  ------  --------------  ----- \n",
      " 0   id      500 non-null    int64 \n",
      " 1   img     500 non-null    object\n",
      " 2   label   500 non-null    int64 \n",
      " 3   text    500 non-null    object\n",
      "dtypes: int64(2), object(2)\n",
      "memory usage: 15.8+ KB\n"
     ]
    }
   ],
   "source": [
    "test_data.info()"
   ]
  },
  {
   "cell_type": "code",
   "execution_count": 9,
   "id": "1cdaebf7",
   "metadata": {
    "scrolled": true
   },
   "outputs": [
    {
     "data": {
      "text/plain": [
       "id        int64\n",
       "img      object\n",
       "label     int64\n",
       "text     object\n",
       "dtype: object"
      ]
     },
     "execution_count": 9,
     "metadata": {},
     "output_type": "execute_result"
    }
   ],
   "source": [
    "train_data.dtypes"
   ]
  },
  {
   "cell_type": "code",
   "execution_count": 10,
   "id": "0caa18ec",
   "metadata": {
    "scrolled": false
   },
   "outputs": [
    {
     "data": {
      "text/plain": [
       "id        int64\n",
       "img      object\n",
       "label     int64\n",
       "text     object\n",
       "dtype: object"
      ]
     },
     "execution_count": 10,
     "metadata": {},
     "output_type": "execute_result"
    }
   ],
   "source": [
    "test_data.dtypes"
   ]
  },
  {
   "cell_type": "code",
   "execution_count": 11,
   "id": "dd21dd89",
   "metadata": {
    "scrolled": true
   },
   "outputs": [
    {
     "data": {
      "text/plain": [
       "id       0\n",
       "img      0\n",
       "label    0\n",
       "text     0\n",
       "dtype: int64"
      ]
     },
     "execution_count": 11,
     "metadata": {},
     "output_type": "execute_result"
    }
   ],
   "source": [
    "train_data.isna().sum()"
   ]
  },
  {
   "cell_type": "code",
   "execution_count": 12,
   "id": "1e06e79c",
   "metadata": {
    "scrolled": true
   },
   "outputs": [
    {
     "data": {
      "text/plain": [
       "id       0\n",
       "img      0\n",
       "label    0\n",
       "text     0\n",
       "dtype: int64"
      ]
     },
     "execution_count": 12,
     "metadata": {},
     "output_type": "execute_result"
    }
   ],
   "source": [
    "test_data.isna().sum()"
   ]
  },
  {
   "cell_type": "code",
   "execution_count": 13,
   "id": "ff211cdd",
   "metadata": {
    "scrolled": true
   },
   "outputs": [
    {
     "data": {
      "text/plain": [
       "0    5450\n",
       "1    3050\n",
       "Name: label, dtype: int64"
      ]
     },
     "execution_count": 13,
     "metadata": {},
     "output_type": "execute_result"
    }
   ],
   "source": [
    "train_data.label.value_counts()"
   ]
  },
  {
   "cell_type": "code",
   "execution_count": 14,
   "id": "9e97bfcf",
   "metadata": {
    "scrolled": true
   },
   "outputs": [
    {
     "data": {
      "text/plain": [
       "1    250\n",
       "0    250\n",
       "Name: label, dtype: int64"
      ]
     },
     "execution_count": 14,
     "metadata": {},
     "output_type": "execute_result"
    }
   ],
   "source": [
    "test_data.label.value_counts()"
   ]
  },
  {
   "cell_type": "code",
   "execution_count": 15,
   "id": "1e96bbb5",
   "metadata": {
    "scrolled": false
   },
   "outputs": [
    {
     "data": {
      "image/png": "[encoded data removed]",
      "text/plain": [
       "<Figure size 432x288 with 1 Axes>"
      ]
     },
     "metadata": {
      "needs_background": "light"
     },
     "output_type": "display_data"
    }
   ],
   "source": [
    "plt.hist(train_data.label)\n",
    "plt.title('Train Data Labels',fontsize=20)\n",
    "plt.show()"
   ]
  },
  {
   "cell_type": "code",
   "execution_count": 16,
   "id": "05477b52",
   "metadata": {},
   "outputs": [
    {
     "data": {
      "image/png": "[encoded data removed]",
      "text/plain": [
       "<Figure size 432x288 with 1 Axes>"
      ]
     },
     "metadata": {
      "needs_background": "light"
     },
     "output_type": "display_data"
    }
   ],
   "source": [
    "plt.hist(test_data.label)\n",
    "plt.title('Test Data Labels',fontsize=20)\n",
    "plt.show()"
   ]
  },
  {
   "cell_type": "code",
   "execution_count": 17,
   "id": "b460a764",
   "metadata": {
    "scrolled": true
   },
   "outputs": [
    {
     "data": {
      "image/png": "[encoded data removed]",
      "text/plain": [
       "<Figure size 1440x360 with 1 Axes>"
      ]
     },
     "metadata": {},
     "output_type": "display_data"
    }
   ],
   "source": [
    "plt.figure(figsize=(20,5))\n",
    "plt.title('Train data Label distribution', fontsize=20)\n",
    "train_data.label.value_counts().plot(kind='pie', labels=['Hate', 'No Hate'],\n",
    "                              wedgeprops=dict(width=.75), autopct='%1.0f%%', \n",
    "                              textprops={'fontsize': 12})\n",
    "plt.show()"
   ]
  },
  {
   "cell_type": "code",
   "execution_count": 18,
   "id": "7e392657",
   "metadata": {},
   "outputs": [
    {
     "data": {
      "image/png": "[encoded data removed]",
      "text/plain": [
       "<Figure size 432x288 with 1 Axes>"
      ]
     },
     "metadata": {},
     "output_type": "display_data"
    }
   ],
   "source": [
    "plt.title('Test data Label distribution', fontsize=20)\n",
    "test_data.label.value_counts().plot(kind='pie', labels=['Hate', 'No Hate'],\n",
    "                              wedgeprops=dict(width=.75), autopct='%1.0f%%', \n",
    "                              textprops={'fontsize': 12})\n",
    "plt.show()"
   ]
  },
  {
   "cell_type": "code",
   "execution_count": 19,
   "id": "bc173ea7",
   "metadata": {
    "scrolled": true
   },
   "outputs": [
    {
     "data": {
      "image/png": "[encoded data removed]",
      "text/plain": [
       "<Figure size 576x576 with 1 Axes>"
      ]
     },
     "metadata": {
      "needs_background": "light"
     },
     "output_type": "display_data"
    }
   ],
   "source": [
    "plt.figure(figsize=(8,8))\n",
    "sn=sns.countplot(train_data['label'])\n",
    "plt.xticks(rotation=90)\n",
    "plt.show()"
   ]
  },
  {
   "cell_type": "code",
   "execution_count": 20,
   "id": "4a7be57f",
   "metadata": {},
   "outputs": [
    {
     "data": {
      "image/png": "[encoded data removed]",
      "text/plain": [
       "<Figure size 576x576 with 1 Axes>"
      ]
     },
     "metadata": {
      "needs_background": "light"
     },
     "output_type": "display_data"
    }
   ],
   "source": [
    "plt.figure(figsize=(8,8))\n",
    "sn=sns.countplot(test_data['label'])\n",
    "plt.xticks(rotation=90)\n",
    "plt.show()"
   ]
  },
  {
   "cell_type": "markdown",
   "id": "5cfd68f6",
   "metadata": {},
   "source": [
    "## Training Data:"
   ]
  },
  {
   "cell_type": "markdown",
   "id": "ea3d024f",
   "metadata": {},
   "source": [
    "Total number of memes: 8500\\\n",
    "Total number of hateful memes: 5450\\\n",
    "Total number of non-hateful memes: 3050"
   ]
  },
  {
   "cell_type": "markdown",
   "id": "4d5312e0",
   "metadata": {},
   "source": [
    "## Test Data:"
   ]
  },
  {
   "cell_type": "markdown",
   "id": "4e2163ae",
   "metadata": {},
   "source": [
    "Total number of memes: 500\\\n",
    "Total number of hateful memes: 250\\\n",
    "Total number of non-hateful memes: 250"
   ]
  },
  {
   "cell_type": "code",
   "execution_count": 21,
   "id": "26078fb5",
   "metadata": {},
   "outputs": [
    {
     "data": {
      "image/png": "[encoded data removed]",
      "text/plain": [
       "<Figure size 576x576 with 1 Axes>"
      ]
     },
     "metadata": {
      "needs_background": "light"
     },
     "output_type": "display_data"
    }
   ],
   "source": [
    "import nltk\n",
    "from wordcloud import WordCloud\n",
    "allwords = \" \".join(train_data['text'].values)\n",
    "word_cloud = WordCloud().generate(allwords)\n",
    "\n",
    "word_cloud = WordCloud(width=800,height=800,background_color='white',max_words=150).generate(allwords)\n",
    "\n",
    "plt.figure(figsize=[8,8])\n",
    "plt.imshow(word_cloud)\n",
    "plt.show()"
   ]
  },
  {
   "cell_type": "code",
   "execution_count": 22,
   "id": "7a0e5165",
   "metadata": {},
   "outputs": [
    {
     "data": {
      "image/png": "[encoded data removed]",
      "text/plain": [
       "<Figure size 576x576 with 1 Axes>"
      ]
     },
     "metadata": {
      "needs_background": "light"
     },
     "output_type": "display_data"
    }
   ],
   "source": [
    "allwords = \" \".join(test_data['text'].values)\n",
    "word_cloud = WordCloud().generate(allwords)\n",
    "\n",
    "word_cloud = WordCloud(width=800,height=800,background_color='white',max_words=150).generate(allwords)\n",
    "\n",
    "plt.figure(figsize=[8,8])\n",
    "plt.imshow(word_cloud)\n",
    "plt.show()"
   ]
  },
  {
   "cell_type": "code",
   "execution_count": 23,
   "id": "b58bb7c2",
   "metadata": {},
   "outputs": [
    {
     "name": "stderr",
     "output_type": "stream",
     "text": [
      "[nltk_data] Downloading package punkt to C:\\Users\\Rolly\n",
      "[nltk_data]     kumari\\AppData\\Roaming\\nltk_data...\n",
      "[nltk_data]   Package punkt is already up-to-date!\n",
      "[nltk_data] Downloading package wordnet to C:\\Users\\Rolly\n",
      "[nltk_data]     kumari\\AppData\\Roaming\\nltk_data...\n",
      "[nltk_data]   Package wordnet is already up-to-date!\n"
     ]
    },
    {
     "data": {
      "text/plain": [
       "True"
      ]
     },
     "execution_count": 23,
     "metadata": {},
     "output_type": "execute_result"
    }
   ],
   "source": [
    "from tqdm import tqdm\n",
    "from string import punctuation\n",
    "from nltk.corpus import stopwords\n",
    "from nltk.tokenize import sent_tokenize, word_tokenize\n",
    "nltk.download('punkt')\n",
    "nltk.download('wordnet')"
   ]
  },
  {
   "cell_type": "code",
   "execution_count": 24,
   "id": "48ea3351",
   "metadata": {},
   "outputs": [],
   "source": [
    "contractions = {\n",
    "\"ain't\": \"are not\",\n",
    "\"aren't\": \"are not\",\n",
    "\"can't\": \"can not\",\n",
    "\"can't've\": \"can not have\",\n",
    "\"'cause\": \"because\",\n",
    "\"could've\": \"could have\",\n",
    "\"couldn't\": \"could not\",\n",
    "\"couldn't've\": \"could not have\",\n",
    "\"didn't\": \"did not\",\n",
    "\"doesn't\": \"does not\",\n",
    "\"don't\": \"do not\",\n",
    "\"hadn't\": \"had not\",\n",
    "\"hadn't've\": \"had not have\",\n",
    "\"hasn't\": \"has not\",\n",
    "\"haven't\": \"have not\",\n",
    "\"he'd\": \"he would\",\n",
    "\"he'd've\": \"he would have\",\n",
    "\"he'll\": \"he will\",\n",
    "\"he'll've\": \"he will have\",\n",
    "\"he's\": \"he is\",\n",
    "\"how'd\": \"how did\",\n",
    "\"how'd'y\": \"how do you\",\n",
    "\"how'll\": \"how will\",\n",
    "\"how's\": \"how is\",\n",
    "\"i'd\": \"I would\",\n",
    "\"i'd've\": \"I would have\",\n",
    "\"i'll\": \"I will\",\n",
    "\"i'll've\": \"I will have\",\n",
    "\"i'm\": \"I am\",\n",
    "\"i've\": \"I have\",\n",
    "\"isn't\": \"is not\",\n",
    "\"it'd\": \"it would\",\n",
    "\"it'd've\": \"it would have\",\n",
    "\"it'll\": \"it will\",\n",
    "\"it'll've\": \"it will have\",\n",
    "\"it's\": \"it is\",\n",
    "\"let's\": \"let us\",\n",
    "\"ma'am\": \"madam\",\n",
    "\"mayn't\": \"may not\",\n",
    "\"might've\": \"might have\",\n",
    "\"mightn't\": \"might not\",\n",
    "\"mightn't've\": \"might not have\",\n",
    "\"must've\": \"must have\",\n",
    "\"mustn't\": \"must not\",\n",
    "\"mustn't've\": \"must not have\",\n",
    "\"needn't\": \"need not\",\n",
    "\"needn't've\": \"need not have\",\n",
    "\"o'clock\": \"of the clock\",\n",
    "\"oughtn't\": \"ought not\",\n",
    "\"oughtn't've\": \"ought not have\",\n",
    "\"shan't\": \"shall not\",\n",
    "\"sha'n't\": \"shall not\",\n",
    "\"shan't've\": \"shall not have\",\n",
    "\"she'd\": \"she would\",\n",
    "\"she'd've\": \"she would have\",\n",
    "\"she'll\": \"she will\",\n",
    "\"she'll've\": \"she will have\",\n",
    "\"she's\": \"she is\",\n",
    "\"should've\": \"should have\",\n",
    "\"shouldn't\": \"should not\",\n",
    "\"shouldn't've\": \"should not have\",\n",
    "\"so've\": \"so have\",\n",
    "\"so's\": \"so is\",\n",
    "\"that'd\": \"that had\",\n",
    "\"that'd've\": \"that would have\",\n",
    "\"that's\": \"that is\",\n",
    "\"there'd\": \"there would\",\n",
    "\"there'd've\": \"there would have\",\n",
    "\"there's\": \"there is\",\n",
    "\"they'd\": \"they would\",\n",
    "\"they'd've\": \"they would have\",\n",
    "\"they'll\": \"they will\",\n",
    "\"they'll've\": \"they will have\",\n",
    "\"they're\": \"they are\",\n",
    "\"they've\": \"they have\",\n",
    "\"to've\": \"to have\",\n",
    "\"wasn't\": \"was not\",\n",
    "\"we'd\": \"we would\",\n",
    "\"we'd've\": \"we would have\",\n",
    "\"we'll\": \"we will\",\n",
    "\"we'll've\": \"we will have\",\n",
    "\"we're\": \"we are\",\n",
    "\"we've\": \"we have\",\n",
    "\"weren't\": \"were not\",\n",
    "\"what'll\": \"what will\",\n",
    "\"weren't\": \"were not\",\n",
    "\"what'll\": \"what will\",\n",
    "\"what'll've\": \"what will have\",\n",
    "\"what're\": \"what are\",\n",
    "\"what's\": \"what is\",\n",
    "\"what've\": \"what have\",\n",
    "\"when's\": \"when is\",\n",
    "\"when've\": \"when have\",\n",
    "\"where'd\": \"where did\",\n",
    "\"where's\": \"where is\",\n",
    "\"where've\": \"where have\",\n",
    "\"who'll\": \"who will\",\n",
    "\"who'll've\": \"who will have\",\n",
    "\"who's\": \"who is\",\n",
    "\"who've\": \"who have\",\n",
    "\"why's\": \"why is\",\n",
    "\"why've\": \"why have\",\n",
    "\"will've\": \"will have\",\n",
    "\"won't\": \"will not\",\n",
    "\"won't've\": \"will not have\",\n",
    "\"would've\": \"would have\",\n",
    "\"wouldn't\": \"would not\",\n",
    "\"wouldn't've\": \"would not have\",\n",
    "\"y'all\": \"you all\",\n",
    "\"y'all'd\": \"you all would\",\n",
    "\"y'all'd've\": \"you all would have\",\n",
    "\"y'all're\": \"you all are\",\n",
    "\"y'all've\": \"you all have\",\n",
    "\"you'd\": \"you would\",\n",
    "\"you'd've\": \"you would have\",\n",
    "\"you'll\": \"you will\",\n",
    "\"you'll've\": \"you will have\",\n",
    "\"you're\": \"you are\",\n",
    "\"you've\": \"you have\"\n",
    "}"
   ]
  },
  {
   "cell_type": "code",
   "execution_count": 25,
   "id": "629f8ad8",
   "metadata": {},
   "outputs": [],
   "source": [
    "from nltk.corpus import stopwords\n",
    "all_stop_words = \\\n",
    "['i',\n",
    " 'me',\n",
    " 'my',\n",
    " 'myself',\n",
    " 'we',\n",
    " 'our',\n",
    " 'ours',\n",
    " 'ourselves',\n",
    " 'you',\n",
    " \"you're\",\n",
    " \"you've\",\n",
    " \"you'll\",\n",
    " \"you'd\",\n",
    " 'your',\n",
    " 'yours',\n",
    " 'yourself',\n",
    " 'yourselves',\n",
    " 'he',\n",
    " 'him',\n",
    " 'his',\n",
    " 'himself',\n",
    " 'she',\n",
    " \"she's\",\n",
    " 'her',\n",
    " 'hers',\n",
    " 'herself',\n",
    " 'it',\n",
    " \"it's\",\n",
    " 'its',\n",
    " 'itself',\n",
    " 'they',\n",
    " 'them',\n",
    " 'their',\n",
    " 'theirs',\n",
    " 'themselves',\n",
    " 'what',\n",
    " 'which',\n",
    " 'who',\n",
    " 'whom',\n",
    " 'this',\n",
    " 'that',\n",
    " \"that'll\",\n",
    " 'these',\n",
    " 'those',\n",
    " 'am',\n",
    " 'is',\n",
    " 'are',\n",
    " 'was',\n",
    " 'were',\n",
    " 'be',\n",
    " 'been',\n",
    " 'being',\n",
    " 'have',\n",
    " 'has',\n",
    " 'had',\n",
    " 'having',\n",
    " 'do',\n",
    " 'does',\n",
    " 'did',\n",
    " 'doing',\n",
    " 'a',\n",
    " 'an',\n",
    " 'the',\n",
    " 'and',\n",
    " 'but',\n",
    " 'if',\n",
    " 'or',\n",
    " 'because',\n",
    " 'as',\n",
    " 'until',\n",
    " 'while',\n",
    " 'of',\n",
    " 'at',\n",
    " 'by',\n",
    " 'for',\n",
    " 'with',\n",
    " 'about',\n",
    " 'against',\n",
    " 'between',\n",
    " 'into',\n",
    " 'through',\n",
    " 'during',\n",
    " 'before',\n",
    " 'after',\n",
    " 'above',\n",
    " 'below',\n",
    " 'to',\n",
    " 'from',\n",
    " 'up',\n",
    " 'down',\n",
    " 'in',\n",
    " 'out',\n",
    " 'on',\n",
    " 'off',\n",
    " 'over',\n",
    " 'under',\n",
    " 'again',\n",
    " 'further',\n",
    " 'then',\n",
    " 'once',\n",
    " 'here',\n",
    " 'there',\n",
    " 'when',\n",
    " 'where',\n",
    " 'why',\n",
    " 'how',\n",
    " 'all',\n",
    " 'any',\n",
    " 'both',\n",
    " 'each',\n",
    " 'few',\n",
    " 'more',\n",
    " 'most',\n",
    " 'other',\n",
    " 'some',\n",
    " 'such',\n",
    " 'no',\n",
    " 'nor',\n",
    " 'not',\n",
    " 'only',\n",
    " 'own',\n",
    " 'same',\n",
    " 'so',\n",
    " 'than',\n",
    " 'too',\n",
    " 'very',\n",
    " 's',\n",
    " 't',\n",
    " 'can',\n",
    " 'will',\n",
    " 'just',\n",
    " 'don',\n",
    " \"don't\",\n",
    " 'should',\n",
    " \"should've\",\n",
    " 'now',\n",
    " 'd',\n",
    " 'll',\n",
    " 'm',\n",
    " 'o',\n",
    " 're',\n",
    " 've',\n",
    " 'y',\n",
    " 'ain',\n",
    " 'aren',\n",
    " \"aren't\",\n",
    " 'couldn',\n",
    " \"couldn't\",\n",
    " 'didn',\n",
    " \"didn't\",\n",
    " 'doesn',\n",
    " \"doesn't\",\n",
    " 'hadn',\n",
    " \"hadn't\",\n",
    " 'hasn',\n",
    " \"hasn't\",\n",
    " 'haven',\n",
    " \"haven't\",\n",
    " 'isn',\n",
    " \"isn't\",\n",
    " 'ma',\n",
    " 'mightn',\n",
    " \"mightn't\",\n",
    " 'mustn',\n",
    " \"mustn't\",\n",
    " 'needn',\n",
    " \"needn't\",\n",
    " 'shan',\n",
    " \"shan't\",\n",
    " 'shouldn',\n",
    " \"shouldn't\",\n",
    " 'wasn',\n",
    " \"wasn't\",\n",
    " 'weren',\n",
    " \"weren't\",\n",
    " 'won',\n",
    " \"won't\",\n",
    " 'wouldn',\n",
    " \"wouldn't\"]"
   ]
  },
  {
   "cell_type": "code",
   "execution_count": 26,
   "id": "cc186610",
   "metadata": {},
   "outputs": [],
   "source": [
    "import re\n",
    "from nltk.stem import PorterStemmer\n",
    "ps = PorterStemmer()\n",
    "all_stop_words_base = [ps.stem(w) for w in all_stop_words]\n",
    "\n",
    "def expand_short_forms(word):\n",
    "    if(word.lower() in contractions):\n",
    "        return contractions[word.lower()]\n",
    "    else:\n",
    "        return word\n",
    "\n",
    "def remove_special_chars_except_apostrophe(sentence):\n",
    "    return re.sub(r\"[^\\w\\d'\\s]+\",'',sentence.lower())\n",
    "\n",
    "# remove special chars\n",
    "# split into words\n",
    "# get base form of words\n",
    "# expand short forms\n",
    "\n",
    "def clean_text_keep_stop_words(text):\n",
    "    sent = re.sub(r\"[^\\w\\d'\\s]+\",'',text.lower()) # remove special chars excecpt apostrophe\n",
    "    words = sent.split() \n",
    "    base_words = [ps.stem(w) for w in words] # get stem words convert in base forms\n",
    "    \n",
    "    base_words_expanded = []\n",
    "    for w in base_words:\n",
    "        if w in contractions:\n",
    "            base_words_expanded.append(contractions[w])\n",
    "        else:\n",
    "            base_words_expanded.append(w)\n",
    "        \n",
    "        sent = \" \".join(base_words_expanded)\n",
    "            \n",
    "    return sent\n",
    "\n",
    "\n",
    "def clean_text_and_all_stop_words(text):\n",
    "    sent = clean_text_keep_stop_words(text)\n",
    "    words = sent.split()\n",
    "    clean_words = []\n",
    "    for w in words:\n",
    "        if w not in all_stop_words_base:\n",
    "            clean_words.append(w)\n",
    "    \n",
    "    sent = \" \".join(clean_words)       \n",
    "    return sent\n",
    "\n",
    "filter_words = [\"meme\", \"http\", \"www\"]\n",
    "def filter_words_after_cleaning(text):\n",
    "    words = text.split()\n",
    "    filtered_words = []\n",
    "    for w in words:\n",
    "        flg = 0\n",
    "        for fw in filter_words:\n",
    "            if fw in w:\n",
    "                flg = 1\n",
    "                break\n",
    "            if 'com' in w and len(w) > 7:\n",
    "                flg = 1\n",
    "        \n",
    "        if flg == 0:\n",
    "            filtered_words.append(w)\n",
    "        \n",
    "    sent = \" \".join(filtered_words)\n",
    "    return sent"
   ]
  },
  {
   "cell_type": "code",
   "execution_count": 27,
   "id": "162bc62b",
   "metadata": {},
   "outputs": [],
   "source": [
    "new_data1 = pd.read_json(\"data/train.jsonl\", lines=True) # with all stop words\n",
    "new_data2 = pd.read_json(\"data/train.jsonl\", lines=True) # without all stop words\n",
    "\n",
    "new_data1['clean text'] = new_data1['text'].apply(clean_text_keep_stop_words)\n",
    "new_data2['clean text'] = new_data2['text'].apply(clean_text_and_all_stop_words)\n",
    "\n",
    "new_data1['clean text final'] = new_data1['clean text'].apply(filter_words_after_cleaning)        \n",
    "new_data2['clean text final'] = new_data2['clean text'].apply(filter_words_after_cleaning)\n",
    "\n",
    "new_data1.drop(['text', 'clean text'], axis = 1, inplace = True)\n",
    "new_data2.drop(['text', 'clean text'], axis = 1, inplace = True)\n",
    "\n",
    "new_data1.rename(columns={'label' : 'label', 'clean text final' : 'text'}, inplace = True)\n",
    "new_data2.rename(columns={'label' : 'label', 'clean text final' : 'text'}, inplace = True)"
   ]
  },
  {
   "cell_type": "code",
   "execution_count": 28,
   "id": "7133e4db",
   "metadata": {},
   "outputs": [
    {
     "data": {
      "text/html": [
       "<div>\n",
       "<style scoped>\n",
       "    .dataframe tbody tr th:only-of-type {\n",
       "        vertical-align: middle;\n",
       "    }\n",
       "\n",
       "    .dataframe tbody tr th {\n",
       "        vertical-align: top;\n",
       "    }\n",
       "\n",
       "    .dataframe thead th {\n",
       "        text-align: right;\n",
       "    }\n",
       "</style>\n",
       "<table border=\"1\" class=\"dataframe\">\n",
       "  <thead>\n",
       "    <tr style=\"text-align: right;\">\n",
       "      <th></th>\n",
       "      <th>id</th>\n",
       "      <th>img</th>\n",
       "      <th>label</th>\n",
       "      <th>text</th>\n",
       "    </tr>\n",
       "  </thead>\n",
       "  <tbody>\n",
       "    <tr>\n",
       "      <th>0</th>\n",
       "      <td>42953</td>\n",
       "      <td>img/42953.png</td>\n",
       "      <td>0</td>\n",
       "      <td>it their charact not their color that matter</td>\n",
       "    </tr>\n",
       "    <tr>\n",
       "      <th>1</th>\n",
       "      <td>23058</td>\n",
       "      <td>img/23058.png</td>\n",
       "      <td>0</td>\n",
       "      <td>do not be afraid to love again everyon is not ...</td>\n",
       "    </tr>\n",
       "    <tr>\n",
       "      <th>2</th>\n",
       "      <td>13894</td>\n",
       "      <td>img/13894.png</td>\n",
       "      <td>0</td>\n",
       "      <td>put bow on your pet</td>\n",
       "    </tr>\n",
       "    <tr>\n",
       "      <th>3</th>\n",
       "      <td>37408</td>\n",
       "      <td>img/37408.png</td>\n",
       "      <td>0</td>\n",
       "      <td>i love everyth and everybodi except for squirr...</td>\n",
       "    </tr>\n",
       "    <tr>\n",
       "      <th>4</th>\n",
       "      <td>82403</td>\n",
       "      <td>img/82403.png</td>\n",
       "      <td>0</td>\n",
       "      <td>everybodi love chocol chip cooki even hitler</td>\n",
       "    </tr>\n",
       "  </tbody>\n",
       "</table>\n",
       "</div>"
      ],
      "text/plain": [
       "      id            img  label  \\\n",
       "0  42953  img/42953.png      0   \n",
       "1  23058  img/23058.png      0   \n",
       "2  13894  img/13894.png      0   \n",
       "3  37408  img/37408.png      0   \n",
       "4  82403  img/82403.png      0   \n",
       "\n",
       "                                                text  \n",
       "0       it their charact not their color that matter  \n",
       "1  do not be afraid to love again everyon is not ...  \n",
       "2                                put bow on your pet  \n",
       "3  i love everyth and everybodi except for squirr...  \n",
       "4       everybodi love chocol chip cooki even hitler  "
      ]
     },
     "execution_count": 28,
     "metadata": {},
     "output_type": "execute_result"
    }
   ],
   "source": [
    "new_data1.head()"
   ]
  },
  {
   "cell_type": "code",
   "execution_count": 29,
   "id": "025ca1ab",
   "metadata": {},
   "outputs": [
    {
     "data": {
      "text/html": [
       "<div>\n",
       "<style scoped>\n",
       "    .dataframe tbody tr th:only-of-type {\n",
       "        vertical-align: middle;\n",
       "    }\n",
       "\n",
       "    .dataframe tbody tr th {\n",
       "        vertical-align: top;\n",
       "    }\n",
       "\n",
       "    .dataframe thead th {\n",
       "        text-align: right;\n",
       "    }\n",
       "</style>\n",
       "<table border=\"1\" class=\"dataframe\">\n",
       "  <thead>\n",
       "    <tr style=\"text-align: right;\">\n",
       "      <th></th>\n",
       "      <th>id</th>\n",
       "      <th>img</th>\n",
       "      <th>label</th>\n",
       "      <th>text</th>\n",
       "    </tr>\n",
       "  </thead>\n",
       "  <tbody>\n",
       "    <tr>\n",
       "      <th>0</th>\n",
       "      <td>42953</td>\n",
       "      <td>img/42953.png</td>\n",
       "      <td>0</td>\n",
       "      <td>charact color matter</td>\n",
       "    </tr>\n",
       "    <tr>\n",
       "      <th>1</th>\n",
       "      <td>23058</td>\n",
       "      <td>img/23058.png</td>\n",
       "      <td>0</td>\n",
       "      <td>afraid love everyon like ex</td>\n",
       "    </tr>\n",
       "    <tr>\n",
       "      <th>2</th>\n",
       "      <td>13894</td>\n",
       "      <td>img/13894.png</td>\n",
       "      <td>0</td>\n",
       "      <td>put bow pet</td>\n",
       "    </tr>\n",
       "    <tr>\n",
       "      <th>3</th>\n",
       "      <td>37408</td>\n",
       "      <td>img/37408.png</td>\n",
       "      <td>0</td>\n",
       "      <td>love everyth everybodi except squirrel hate sq...</td>\n",
       "    </tr>\n",
       "    <tr>\n",
       "      <th>4</th>\n",
       "      <td>82403</td>\n",
       "      <td>img/82403.png</td>\n",
       "      <td>0</td>\n",
       "      <td>everybodi love chocol chip cooki even hitler</td>\n",
       "    </tr>\n",
       "  </tbody>\n",
       "</table>\n",
       "</div>"
      ],
      "text/plain": [
       "      id            img  label  \\\n",
       "0  42953  img/42953.png      0   \n",
       "1  23058  img/23058.png      0   \n",
       "2  13894  img/13894.png      0   \n",
       "3  37408  img/37408.png      0   \n",
       "4  82403  img/82403.png      0   \n",
       "\n",
       "                                                text  \n",
       "0                               charact color matter  \n",
       "1                        afraid love everyon like ex  \n",
       "2                                        put bow pet  \n",
       "3  love everyth everybodi except squirrel hate sq...  \n",
       "4       everybodi love chocol chip cooki even hitler  "
      ]
     },
     "execution_count": 29,
     "metadata": {},
     "output_type": "execute_result"
    }
   ],
   "source": [
    "new_data2.head()"
   ]
  },
  {
   "cell_type": "code",
   "execution_count": 30,
   "id": "6668b15c",
   "metadata": {},
   "outputs": [],
   "source": [
    "accuracy = []"
   ]
  },
  {
   "cell_type": "code",
   "execution_count": 31,
   "id": "8be52430",
   "metadata": {},
   "outputs": [],
   "source": [
    "from sklearn.metrics import f1_score\n",
    "\n",
    "acc1 = [] # Accuracy of models on CleanText1\n",
    "acc2 = [] # Accuracy of models on CleanText2\n",
    "\n",
    "f1_score1 = []\n",
    "f1_score2 = []"
   ]
  },
  {
   "cell_type": "code",
   "execution_count": 32,
   "id": "5eadbbba",
   "metadata": {},
   "outputs": [],
   "source": [
    "from sklearn.svm import SVC\n",
    "from sklearn.metrics import accuracy_score\n",
    "from sklearn.model_selection import train_test_split\n",
    "from sklearn.metrics import classification_report, confusion_matrix\n",
    "from sklearn import metrics\n",
    "from sklearn.naive_bayes import MultinomialNB\n",
    "from sklearn.metrics import accuracy_score\n",
    "from sklearn.model_selection import train_test_split\n",
    "from sklearn.metrics import classification_report, confusion_matrix\n",
    "from sklearn import metrics\n",
    "from sklearn.feature_extraction.text import TfidfVectorizer\n",
    "\n",
    "#Train Test split of 3 datasets\n",
    "\n",
    "X1 = new_data1['text'].values\n",
    "X2 = new_data2['text'].values\n",
    "\n",
    "y = train_data['label'].values\n",
    "\n",
    "X1_train, X1_test, y1_train, y1_test = train_test_split(X1, y , test_size = 0.2, random_state = 42)\n",
    "X2_train, X2_test, y2_train, y2_test = train_test_split(X2, y , test_size = 0.2, random_state = 42)"
   ]
  },
  {
   "cell_type": "code",
   "execution_count": 33,
   "id": "4b637401",
   "metadata": {},
   "outputs": [],
   "source": [
    "#Applying unigram technique\n",
    "tfidf_vectorizer_uni = TfidfVectorizer(max_features=3000)\n",
    "\n",
    "#Training of data with all stop words\n",
    "X_train_tfidf_uni = tfidf_vectorizer_uni.fit_transform(X1_train)\n",
    "X_test_tfidf_uni = tfidf_vectorizer_uni.transform(X1_test)\n",
    "\n",
    "svclassifier = SVC(kernel='linear')\n",
    "svclassifier.fit(X_train_tfidf_uni, y1_train)\n",
    "\n",
    "predictions_SVM_uni = svclassifier.predict(X_test_tfidf_uni)\n",
    "\n",
    "acc1.append(accuracy_score(predictions_SVM_uni, y1_test)*100)\n",
    "f1_score1.append(f1_score(predictions_SVM_uni,y1_test, average='weighted'))\n",
    "\n",
    "\n",
    "#Training of data without all stop words\n",
    "X_train_tfidf_uni = tfidf_vectorizer_uni.fit_transform(X2_train)\n",
    "X_test_tfidf_uni = tfidf_vectorizer_uni.transform(X2_test)\n",
    "\n",
    "svclassifier = SVC(kernel='linear')\n",
    "svclassifier.fit(X_train_tfidf_uni, y2_train)\n",
    "\n",
    "predictions_SVM_uni = svclassifier.predict(X_test_tfidf_uni)\n",
    "\n",
    "acc2.append(accuracy_score(predictions_SVM_uni, y2_test)*100)\n",
    "f1_score2.append(f1_score(predictions_SVM_uni,y2_test, average='weighted'))"
   ]
  },
  {
   "cell_type": "code",
   "execution_count": 34,
   "id": "a83c2167",
   "metadata": {},
   "outputs": [],
   "source": [
    "#Applying bigram technique\n",
    "tfidf_vectorizer_bi = TfidfVectorizer(ngram_range=(2,2), max_features=10000)\n",
    "\n",
    "#Training of data with all stop words\n",
    "X_train_tfidf_bi = tfidf_vectorizer_bi.fit_transform(X1_train)\n",
    "X_test_tfidf_bi = tfidf_vectorizer_bi.transform(X1_test)\n",
    "\n",
    "svclassifier = SVC(kernel='linear')\n",
    "svclassifier.fit(X_train_tfidf_bi, y1_train)\n",
    "\n",
    "predictions_SVM = svclassifier.predict(X_test_tfidf_bi)\n",
    "\n",
    "acc1.append(accuracy_score(predictions_SVM, y1_test)*100)\n",
    "f1_score1.append(f1_score(predictions_SVM,y1_test, average='weighted'))\n",
    "\n",
    "\n",
    "#Training of data without all stop words\n",
    "X_train_tfidf_bi1 = tfidf_vectorizer_bi.fit_transform(X2_train)\n",
    "X_test_tfidf_bi1 = tfidf_vectorizer_bi.transform(X2_test)\n",
    "\n",
    "svclassifier = SVC(kernel='linear')\n",
    "svclassifier.fit(X_train_tfidf_bi1, y2_train)\n",
    "\n",
    "predictions_SVM = svclassifier.predict(X_test_tfidf_bi1)\n",
    "\n",
    "acc2.append(accuracy_score(predictions_SVM, y2_test)*100)\n",
    "f1_score2.append(f1_score(predictions_SVM,y2_test, average='weighted'))"
   ]
  },
  {
   "cell_type": "code",
   "execution_count": 35,
   "id": "92b6def3",
   "metadata": {},
   "outputs": [],
   "source": [
    "#Applying trigram technique\n",
    "tfidf_vectorizer_tri = TfidfVectorizer(ngram_range=(3,3), max_features=10000)\n",
    "\n",
    "#Training of data with all stop words\n",
    "X_train_tfidf_tri = tfidf_vectorizer_tri.fit_transform(X1_train)\n",
    "X_test_tfidf_tri = tfidf_vectorizer_tri.transform(X1_test)\n",
    "\n",
    "svclassifier = SVC(kernel='linear')\n",
    "svclassifier.fit(X_train_tfidf_tri, y1_train)\n",
    "\n",
    "predictions_SVM = svclassifier.predict(X_test_tfidf_tri)\n",
    "\n",
    "acc1.append(accuracy_score(predictions_SVM, y1_test)*100)\n",
    "f1_score1.append(f1_score(predictions_SVM,y1_test, average='weighted'))\n",
    "\n",
    "\n",
    "#Training of data without all stop words\n",
    "X_train_tfidf_tri = tfidf_vectorizer_tri.fit_transform(X2_train)\n",
    "X_test_tfidf_tri = tfidf_vectorizer_tri.transform(X2_test)\n",
    "\n",
    "svclassifier = SVC(kernel='linear')\n",
    "svclassifier.fit(X_train_tfidf_tri, y2_train)\n",
    "\n",
    "predictions_SVM = svclassifier.predict(X_test_tfidf_tri)\n",
    "\n",
    "acc2.append(accuracy_score(predictions_SVM, y2_test)*100)\n",
    "f1_score2.append(f1_score(predictions_SVM,y2_test, average='weighted'))"
   ]
  },
  {
   "cell_type": "code",
   "execution_count": 36,
   "id": "ad02549f",
   "metadata": {},
   "outputs": [
    {
     "data": {
      "text/plain": [
       "'Accuracy'"
      ]
     },
     "metadata": {},
     "output_type": "display_data"
    },
    {
     "data": {
      "text/html": [
       "<div>\n",
       "<style scoped>\n",
       "    .dataframe tbody tr th:only-of-type {\n",
       "        vertical-align: middle;\n",
       "    }\n",
       "\n",
       "    .dataframe tbody tr th {\n",
       "        vertical-align: top;\n",
       "    }\n",
       "\n",
       "    .dataframe thead th {\n",
       "        text-align: right;\n",
       "    }\n",
       "</style>\n",
       "<table border=\"1\" class=\"dataframe\">\n",
       "  <thead>\n",
       "    <tr style=\"text-align: right;\">\n",
       "      <th></th>\n",
       "      <th>model</th>\n",
       "      <th>w all stop words</th>\n",
       "      <th>w/o all stop words</th>\n",
       "    </tr>\n",
       "  </thead>\n",
       "  <tbody>\n",
       "    <tr>\n",
       "      <th>0</th>\n",
       "      <td>SVM-1gram</td>\n",
       "      <td>70.470588</td>\n",
       "      <td>69.470588</td>\n",
       "    </tr>\n",
       "    <tr>\n",
       "      <th>1</th>\n",
       "      <td>SVM-2gram</td>\n",
       "      <td>61.588235</td>\n",
       "      <td>62.235294</td>\n",
       "    </tr>\n",
       "    <tr>\n",
       "      <th>2</th>\n",
       "      <td>SVM-3gram</td>\n",
       "      <td>61.823529</td>\n",
       "      <td>59.882353</td>\n",
       "    </tr>\n",
       "  </tbody>\n",
       "</table>\n",
       "</div>"
      ],
      "text/plain": [
       "       model  w all stop words  w/o all stop words\n",
       "0  SVM-1gram         70.470588           69.470588\n",
       "1  SVM-2gram         61.588235           62.235294\n",
       "2  SVM-3gram         61.823529           59.882353"
      ]
     },
     "metadata": {},
     "output_type": "display_data"
    }
   ],
   "source": [
    "models = ['SVM-1gram', 'SVM-2gram', 'SVM-3gram']\n",
    "model_test_scores = pd.DataFrame(list(zip(models,acc1,acc2)), columns = ['model', \\\n",
    "                                'w all stop words', 'w/o all stop words'])\n",
    "display(\"Accuracy\",model_test_scores.head())"
   ]
  },
  {
   "cell_type": "code",
   "execution_count": 37,
   "id": "9ae5b488",
   "metadata": {
    "scrolled": true
   },
   "outputs": [
    {
     "data": {
      "text/plain": [
       "'f1-score'"
      ]
     },
     "metadata": {},
     "output_type": "display_data"
    },
    {
     "data": {
      "text/html": [
       "<div>\n",
       "<style scoped>\n",
       "    .dataframe tbody tr th:only-of-type {\n",
       "        vertical-align: middle;\n",
       "    }\n",
       "\n",
       "    .dataframe tbody tr th {\n",
       "        vertical-align: top;\n",
       "    }\n",
       "\n",
       "    .dataframe thead th {\n",
       "        text-align: right;\n",
       "    }\n",
       "</style>\n",
       "<table border=\"1\" class=\"dataframe\">\n",
       "  <thead>\n",
       "    <tr style=\"text-align: right;\">\n",
       "      <th></th>\n",
       "      <th>model</th>\n",
       "      <th>w all stop words</th>\n",
       "      <th>w/o all stop words</th>\n",
       "    </tr>\n",
       "  </thead>\n",
       "  <tbody>\n",
       "    <tr>\n",
       "      <th>0</th>\n",
       "      <td>SVM-1gram</td>\n",
       "      <td>0.730599</td>\n",
       "      <td>0.719305</td>\n",
       "    </tr>\n",
       "    <tr>\n",
       "      <th>1</th>\n",
       "      <td>SVM-2gram</td>\n",
       "      <td>0.668191</td>\n",
       "      <td>0.680021</td>\n",
       "    </tr>\n",
       "    <tr>\n",
       "      <th>2</th>\n",
       "      <td>SVM-3gram</td>\n",
       "      <td>0.711318</td>\n",
       "      <td>0.690178</td>\n",
       "    </tr>\n",
       "  </tbody>\n",
       "</table>\n",
       "</div>"
      ],
      "text/plain": [
       "       model  w all stop words  w/o all stop words\n",
       "0  SVM-1gram          0.730599            0.719305\n",
       "1  SVM-2gram          0.668191            0.680021\n",
       "2  SVM-3gram          0.711318            0.690178"
      ]
     },
     "metadata": {},
     "output_type": "display_data"
    }
   ],
   "source": [
    "models = ['SVM-1gram', 'SVM-2gram', 'SVM-3gram']\n",
    "model_test_scores = pd.DataFrame(list(zip(models,f1_score1,f1_score2)), columns = ['model', \\\n",
    "                                'w all stop words', 'w/o all stop words'])\n",
    "display('f1-score',model_test_scores.head())"
   ]
  },
  {
   "cell_type": "code",
   "execution_count": 81,
   "id": "6e7eeafe",
   "metadata": {},
   "outputs": [
    {
     "name": "stdout",
     "output_type": "stream",
     "text": [
      "[0]\n"
     ]
    }
   ],
   "source": [
    "print(svclassifier.predict(X_test_tfidf_tri[0]))"
   ]
  },
  {
   "cell_type": "code",
   "execution_count": 38,
   "id": "652e9fe3",
   "metadata": {},
   "outputs": [],
   "source": [
    "from sklearn.naive_bayes import GaussianNB"
   ]
  },
  {
   "cell_type": "code",
   "execution_count": 39,
   "id": "30d03eb4",
   "metadata": {},
   "outputs": [],
   "source": [
    "acc11 = [] # Accuracy of models on CleanText1\n",
    "acc21 = [] # Accuracy of models on CleanText2\n",
    "\n",
    "f1_score11 = []\n",
    "f1_score21 = []"
   ]
  },
  {
   "cell_type": "code",
   "execution_count": 40,
   "id": "4af3e08a",
   "metadata": {},
   "outputs": [],
   "source": [
    "#Applying unigram technique\n",
    "tfidf_vectorizer_uni = TfidfVectorizer(max_features=3000)\n",
    "\n",
    "#Training of data with all stop words\n",
    "X_train_tfidf_uni = tfidf_vectorizer_uni.fit_transform(X1_train)\n",
    "X_test_tfidf_uni = tfidf_vectorizer_uni.transform(X1_test)\n",
    "X_train1 = X_train_tfidf_uni.toarray()\n",
    "X_test1 = X_test_tfidf_uni.toarray()\n",
    "\n",
    "gnb = GaussianNB()\n",
    "gnb.fit(X_train1, y1_train)\n",
    "\n",
    "predictions_gnb_uni = gnb.predict(X_test1)\n",
    "\n",
    "acc11.append(accuracy_score(predictions_gnb_uni, y1_test)*100)\n",
    "f1_score11.append(f1_score(predictions_gnb_uni,y1_test, average='weighted'))\n",
    "\n",
    "\n",
    "#Training of data without all stop words\n",
    "X_train_tfidf_uni1 = tfidf_vectorizer_uni.fit_transform(X2_train)\n",
    "X_test_tfidf_uni1 = tfidf_vectorizer_uni.transform(X2_test)\n",
    "X_train2 = X_train_tfidf_uni1.toarray()\n",
    "X_test2 = X_test_tfidf_uni1.toarray()\n",
    "\n",
    "gnb = GaussianNB()\n",
    "gnb.fit(X_train2, y2_train)\n",
    "\n",
    "predictions_gnb_uni = gnb.predict(X_test2)\n",
    "\n",
    "acc21.append(accuracy_score(predictions_gnb_uni, y2_test)*100)\n",
    "f1_score21.append(f1_score(predictions_gnb_uni,y2_test, average='weighted'))"
   ]
  },
  {
   "cell_type": "code",
   "execution_count": 41,
   "id": "9e0942c6",
   "metadata": {},
   "outputs": [],
   "source": [
    "#Applying bigram technique\n",
    "tfidf_vectorizer_bi = TfidfVectorizer(ngram_range=(2,2), max_features=10000)\n",
    "\n",
    "#Training of data with all stop words\n",
    "X_train_tfidf_bi = tfidf_vectorizer_bi.fit_transform(X1_train)\n",
    "X_test_tfidf_bi = tfidf_vectorizer_bi.transform(X1_test)\n",
    "X_train1 = X_train_tfidf_bi.toarray()\n",
    "X_test1 = X_test_tfidf_bi.toarray()\n",
    "\n",
    "gnb = GaussianNB()\n",
    "gnb.fit(X_train1, y1_train)\n",
    "\n",
    "predictions_gnb = gnb.predict(X_test1)\n",
    "\n",
    "acc11.append(accuracy_score(predictions_gnb, y1_test)*100)\n",
    "f1_score11.append(f1_score(predictions_gnb,y1_test, average='weighted'))\n",
    "\n",
    "\n",
    "#Training of data without all stop words\n",
    "X_train_tfidf_bi1 = tfidf_vectorizer_bi.fit_transform(X2_train)\n",
    "X_test_tfidf_bi1 = tfidf_vectorizer_bi.transform(X2_test)\n",
    "X_train2 = X_train_tfidf_bi1.toarray()\n",
    "X_test2 = X_test_tfidf_bi1.toarray()\n",
    "\n",
    "gnb = GaussianNB()\n",
    "gnb.fit(X_train2, y2_train)\n",
    "\n",
    "predictions_gnb = gnb.predict(X_test2)\n",
    "\n",
    "acc21.append(accuracy_score(predictions_gnb, y2_test)*100)\n",
    "f1_score21.append(f1_score(predictions_gnb,y2_test, average='weighted'))"
   ]
  },
  {
   "cell_type": "code",
   "execution_count": 42,
   "id": "1cc9d69d",
   "metadata": {},
   "outputs": [],
   "source": [
    "#Applying trigram technique\n",
    "tfidf_vectorizer_tri = TfidfVectorizer(ngram_range=(3,3), max_features=10000)\n",
    "\n",
    "#Training of data with all stop words\n",
    "X_train_tfidf_tri = tfidf_vectorizer_tri.fit_transform(X1_train)\n",
    "X_test_tfidf_tri = tfidf_vectorizer_tri.transform(X1_test)\n",
    "X_train1 = X_train_tfidf_tri.toarray()\n",
    "X_test1 = X_test_tfidf_tri.toarray()\n",
    "\n",
    "gnb = GaussianNB()\n",
    "gnb.fit(X_train1, y1_train)\n",
    "\n",
    "predictions_gnb = gnb.predict(X_test1)\n",
    "\n",
    "acc11.append(accuracy_score(predictions_gnb, y1_test)*100)\n",
    "f1_score11.append(f1_score(predictions_gnb,y1_test, average='weighted'))\n",
    "\n",
    "\n",
    "#Training of data without all stop words\n",
    "X_train_tfidf_tri = tfidf_vectorizer_tri.fit_transform(X2_train)\n",
    "X_test_tfidf_tri = tfidf_vectorizer_tri.transform(X2_test)\n",
    "X_train2 = X_train_tfidf_tri.toarray()\n",
    "X_test2 = X_test_tfidf_tri.toarray()\n",
    "\n",
    "gnb = GaussianNB()\n",
    "gnb.fit(X_train2, y2_train)\n",
    "\n",
    "predictions_gnb = gnb.predict(X_test2)\n",
    "acc21.append(accuracy_score(predictions_gnb, y2_test)*100)\n",
    "f1_score21.append(f1_score(predictions_gnb,y2_test, average='weighted'))"
   ]
  },
  {
   "cell_type": "code",
   "execution_count": 43,
   "id": "68875c58",
   "metadata": {},
   "outputs": [
    {
     "data": {
      "text/plain": [
       "'Accuracy'"
      ]
     },
     "metadata": {},
     "output_type": "display_data"
    },
    {
     "data": {
      "text/html": [
       "<div>\n",
       "<style scoped>\n",
       "    .dataframe tbody tr th:only-of-type {\n",
       "        vertical-align: middle;\n",
       "    }\n",
       "\n",
       "    .dataframe tbody tr th {\n",
       "        vertical-align: top;\n",
       "    }\n",
       "\n",
       "    .dataframe thead th {\n",
       "        text-align: right;\n",
       "    }\n",
       "</style>\n",
       "<table border=\"1\" class=\"dataframe\">\n",
       "  <thead>\n",
       "    <tr style=\"text-align: right;\">\n",
       "      <th></th>\n",
       "      <th>model</th>\n",
       "      <th>w all stop words</th>\n",
       "      <th>w/o all stop words</th>\n",
       "    </tr>\n",
       "  </thead>\n",
       "  <tbody>\n",
       "    <tr>\n",
       "      <th>0</th>\n",
       "      <td>Naive-1gram</td>\n",
       "      <td>41.235294</td>\n",
       "      <td>41.000000</td>\n",
       "    </tr>\n",
       "    <tr>\n",
       "      <th>1</th>\n",
       "      <td>Naive-2gram</td>\n",
       "      <td>41.941176</td>\n",
       "      <td>36.882353</td>\n",
       "    </tr>\n",
       "    <tr>\n",
       "      <th>2</th>\n",
       "      <td>Naive-3gram</td>\n",
       "      <td>37.764706</td>\n",
       "      <td>33.000000</td>\n",
       "    </tr>\n",
       "  </tbody>\n",
       "</table>\n",
       "</div>"
      ],
      "text/plain": [
       "         model  w all stop words  w/o all stop words\n",
       "0  Naive-1gram         41.235294           41.000000\n",
       "1  Naive-2gram         41.941176           36.882353\n",
       "2  Naive-3gram         37.764706           33.000000"
      ]
     },
     "metadata": {},
     "output_type": "display_data"
    }
   ],
   "source": [
    "models = ['Naive-1gram', 'Naive-2gram', 'Naive-3gram']\n",
    "model_test_scores = pd.DataFrame(list(zip(models,acc11,acc21)), columns = ['model', \\\n",
    "                                'w all stop words', 'w/o all stop words'])\n",
    "display(\"Accuracy\",model_test_scores.head())"
   ]
  },
  {
   "cell_type": "code",
   "execution_count": 44,
   "id": "f65546c0",
   "metadata": {
    "scrolled": false
   },
   "outputs": [
    {
     "data": {
      "text/plain": [
       "'f1-score'"
      ]
     },
     "metadata": {},
     "output_type": "display_data"
    },
    {
     "data": {
      "text/html": [
       "<div>\n",
       "<style scoped>\n",
       "    .dataframe tbody tr th:only-of-type {\n",
       "        vertical-align: middle;\n",
       "    }\n",
       "\n",
       "    .dataframe tbody tr th {\n",
       "        vertical-align: top;\n",
       "    }\n",
       "\n",
       "    .dataframe thead th {\n",
       "        text-align: right;\n",
       "    }\n",
       "</style>\n",
       "<table border=\"1\" class=\"dataframe\">\n",
       "  <thead>\n",
       "    <tr style=\"text-align: right;\">\n",
       "      <th></th>\n",
       "      <th>model</th>\n",
       "      <th>w all stop words</th>\n",
       "      <th>w/o all stop words</th>\n",
       "    </tr>\n",
       "  </thead>\n",
       "  <tbody>\n",
       "    <tr>\n",
       "      <th>0</th>\n",
       "      <td>Naive-1gram</td>\n",
       "      <td>0.469499</td>\n",
       "      <td>0.465856</td>\n",
       "    </tr>\n",
       "    <tr>\n",
       "      <th>1</th>\n",
       "      <td>Naive-2gram</td>\n",
       "      <td>0.433645</td>\n",
       "      <td>0.419296</td>\n",
       "    </tr>\n",
       "    <tr>\n",
       "      <th>2</th>\n",
       "      <td>Naive-3gram</td>\n",
       "      <td>0.435773</td>\n",
       "      <td>0.424077</td>\n",
       "    </tr>\n",
       "  </tbody>\n",
       "</table>\n",
       "</div>"
      ],
      "text/plain": [
       "         model  w all stop words  w/o all stop words\n",
       "0  Naive-1gram          0.469499            0.465856\n",
       "1  Naive-2gram          0.433645            0.419296\n",
       "2  Naive-3gram          0.435773            0.424077"
      ]
     },
     "metadata": {},
     "output_type": "display_data"
    }
   ],
   "source": [
    "models = ['Naive-1gram', 'Naive-2gram', 'Naive-3gram']\n",
    "model_test_scores = pd.DataFrame(list(zip(models,f1_score11,f1_score21)), columns = ['model', \\\n",
    "                                'w all stop words', 'w/o all stop words'])\n",
    "display('f1-score',model_test_scores.head())"
   ]
  },
  {
   "cell_type": "code",
   "execution_count": null,
   "id": "39041e30",
   "metadata": {},
   "outputs": [],
   "source": [
    "print(gnb.predict(X_test1[0]))"
   ]
  },
  {
   "cell_type": "code",
   "execution_count": 45,
   "id": "1d568305",
   "metadata": {},
   "outputs": [],
   "source": [
    "from xgboost import XGBClassifier\n",
    "from xgboost import plot_importance"
   ]
  },
  {
   "cell_type": "code",
   "execution_count": 46,
   "id": "6dc7a07c",
   "metadata": {},
   "outputs": [],
   "source": [
    "acc12 = [] # Accuracy of models on CleanText1\n",
    "acc22 = [] # Accuracy of models on CleanText2\n",
    "\n",
    "f1_score12 = []\n",
    "f1_score22 = []"
   ]
  },
  {
   "cell_type": "code",
   "execution_count": 47,
   "id": "ef391eae",
   "metadata": {},
   "outputs": [],
   "source": [
    "#Applying unigram technique\n",
    "tfidf_vectorizer_uni = TfidfVectorizer(max_features=3000)\n",
    "\n",
    "#Training of data with all stop words\n",
    "X_train_tfidf_uni = tfidf_vectorizer_uni.fit_transform(X1_train)\n",
    "X_test_tfidf_uni = tfidf_vectorizer_uni.transform(X1_test)\n",
    "X_train1 = X_train_tfidf_uni.toarray()\n",
    "X_test1 = X_test_tfidf_uni.toarray()\n",
    "\n",
    "xgb_model1=XGBClassifier()\n",
    "xgb_model1.fit(X_train1,y1_train)\n",
    "\n",
    "predictions_xgb_uni = xgb_model1.predict(X_test1)\n",
    "\n",
    "acc12.append(accuracy_score(predictions_xgb_uni, y1_test)*100)\n",
    "f1_score12.append(f1_score(predictions_xgb_uni,y1_test, average='weighted'))\n",
    "\n",
    "\n",
    "#Training of data without all stop words\n",
    "X_train_tfidf_uni1 = tfidf_vectorizer_uni.fit_transform(X2_train)\n",
    "X_test_tfidf_uni1 = tfidf_vectorizer_uni.transform(X2_test)\n",
    "X_train2 = X_train_tfidf_uni1.toarray()\n",
    "X_test2 = X_test_tfidf_uni1.toarray()\n",
    "\n",
    "xgb_model1=XGBClassifier()\n",
    "xgb_model1.fit(X_train2,y2_train)\n",
    "\n",
    "predictions_xgb_uni = xgb_model1.predict(X_test2)\n",
    "\n",
    "acc22.append(accuracy_score(predictions_xgb_uni, y2_test)*100)\n",
    "f1_score22.append(f1_score(predictions_xgb_uni,y2_test, average='weighted'))"
   ]
  },
  {
   "cell_type": "code",
   "execution_count": 48,
   "id": "d780065e",
   "metadata": {},
   "outputs": [],
   "source": [
    "#Applying bigram technique\n",
    "tfidf_vectorizer_bi = TfidfVectorizer(ngram_range=(2,2), max_features=10000)\n",
    "\n",
    "#Training of data with all stop words\n",
    "X_train_tfidf_bi = tfidf_vectorizer_bi.fit_transform(X1_train)\n",
    "X_test_tfidf_bi = tfidf_vectorizer_bi.transform(X1_test)\n",
    "X_train1 = X_train_tfidf_bi.toarray()\n",
    "X_test1 = X_test_tfidf_bi.toarray()\n",
    "\n",
    "xgb_model1=XGBClassifier()\n",
    "xgb_model1.fit(X_train1,y1_train)\n",
    "\n",
    "predictions_xgb = xgb_model1.predict(X_test1)\n",
    "\n",
    "acc12.append(accuracy_score(predictions_xgb, y1_test)*100)\n",
    "f1_score12.append(f1_score(predictions_xgb,y1_test, average='weighted'))\n",
    "\n",
    "\n",
    "#Training of data without all stop words\n",
    "X_train_tfidf_bi1 = tfidf_vectorizer_bi.fit_transform(X2_train)\n",
    "X_test_tfidf_bi1 = tfidf_vectorizer_bi.transform(X2_test)\n",
    "X_train2 = X_train_tfidf_bi1.toarray()\n",
    "X_test2 = X_test_tfidf_bi1.toarray()\n",
    "\n",
    "xgb_model1=XGBClassifier()\n",
    "xgb_model1.fit(X_train2,y2_train)\n",
    "\n",
    "predictions_xgb = xgb_model1.predict(X_test2)\n",
    "\n",
    "acc22.append(accuracy_score(predictions_xgb, y2_test)*100)\n",
    "f1_score22.append(f1_score(predictions_xgb,y2_test, average='weighted'))"
   ]
  },
  {
   "cell_type": "code",
   "execution_count": 49,
   "id": "8dd7d4df",
   "metadata": {},
   "outputs": [],
   "source": [
    "#Applying trigram technique\n",
    "tfidf_vectorizer_tri = TfidfVectorizer(ngram_range=(3,3), max_features=10000)\n",
    "\n",
    "#Training of data with all stop words\n",
    "X_train_tfidf_tri = tfidf_vectorizer_tri.fit_transform(X1_train)\n",
    "X_test_tfidf_tri = tfidf_vectorizer_tri.transform(X1_test)\n",
    "X_train1 = X_train_tfidf_tri.toarray()\n",
    "X_test1 = X_test_tfidf_tri.toarray()\n",
    "\n",
    "xgb_model1=XGBClassifier()\n",
    "xgb_model1.fit(X_train1,y1_train)\n",
    "\n",
    "predictions_xgb = xgb_model1.predict(X_test1)\n",
    "\n",
    "acc12.append(accuracy_score(predictions_xgb, y1_test)*100)\n",
    "f1_score12.append(f1_score(predictions_xgb,y1_test, average='weighted'))\n",
    "\n",
    "\n",
    "#Training of data without all stop words\n",
    "X_train_tfidf_tri = tfidf_vectorizer_tri.fit_transform(X2_train)\n",
    "X_test_tfidf_tri = tfidf_vectorizer_tri.transform(X2_test)\n",
    "X_train2 = X_train_tfidf_tri.toarray()\n",
    "X_test2 = X_test_tfidf_tri.toarray()\n",
    "\n",
    "xgb_model1=XGBClassifier()\n",
    "xgb_model1.fit(X_train2,y2_train)\n",
    "\n",
    "predictions_xgb = xgb_model1.predict(X_test2)\n",
    "acc22.append(accuracy_score(predictions_xgb, y2_test)*100)\n",
    "f1_score22.append(f1_score(predictions_xgb,y2_test, average='weighted'))"
   ]
  },
  {
   "cell_type": "code",
   "execution_count": 50,
   "id": "8d3eade3",
   "metadata": {},
   "outputs": [
    {
     "data": {
      "text/plain": [
       "'Accuracy'"
      ]
     },
     "metadata": {},
     "output_type": "display_data"
    },
    {
     "data": {
      "text/html": [
       "<div>\n",
       "<style scoped>\n",
       "    .dataframe tbody tr th:only-of-type {\n",
       "        vertical-align: middle;\n",
       "    }\n",
       "\n",
       "    .dataframe tbody tr th {\n",
       "        vertical-align: top;\n",
       "    }\n",
       "\n",
       "    .dataframe thead th {\n",
       "        text-align: right;\n",
       "    }\n",
       "</style>\n",
       "<table border=\"1\" class=\"dataframe\">\n",
       "  <thead>\n",
       "    <tr style=\"text-align: right;\">\n",
       "      <th></th>\n",
       "      <th>model</th>\n",
       "      <th>w all stop words</th>\n",
       "      <th>w/o all stop words</th>\n",
       "    </tr>\n",
       "  </thead>\n",
       "  <tbody>\n",
       "    <tr>\n",
       "      <th>0</th>\n",
       "      <td>Xgb-1gram</td>\n",
       "      <td>69.705882</td>\n",
       "      <td>70.764706</td>\n",
       "    </tr>\n",
       "    <tr>\n",
       "      <th>1</th>\n",
       "      <td>Xgb-2gram</td>\n",
       "      <td>64.529412</td>\n",
       "      <td>64.352941</td>\n",
       "    </tr>\n",
       "    <tr>\n",
       "      <th>2</th>\n",
       "      <td>Xgb-3gram</td>\n",
       "      <td>62.235294</td>\n",
       "      <td>63.176471</td>\n",
       "    </tr>\n",
       "  </tbody>\n",
       "</table>\n",
       "</div>"
      ],
      "text/plain": [
       "       model  w all stop words  w/o all stop words\n",
       "0  Xgb-1gram         69.705882           70.764706\n",
       "1  Xgb-2gram         64.529412           64.352941\n",
       "2  Xgb-3gram         62.235294           63.176471"
      ]
     },
     "metadata": {},
     "output_type": "display_data"
    }
   ],
   "source": [
    "models = ['Xgb-1gram', 'Xgb-2gram', 'Xgb-3gram']\n",
    "model_test_scores = pd.DataFrame(list(zip(models,acc12,acc22)), columns = ['model', \\\n",
    "                                'w all stop words', 'w/o all stop words'])\n",
    "display(\"Accuracy\",model_test_scores.head())"
   ]
  },
  {
   "cell_type": "code",
   "execution_count": 51,
   "id": "44b555be",
   "metadata": {
    "scrolled": true
   },
   "outputs": [
    {
     "data": {
      "text/plain": [
       "'f1-score'"
      ]
     },
     "metadata": {},
     "output_type": "display_data"
    },
    {
     "data": {
      "text/html": [
       "<div>\n",
       "<style scoped>\n",
       "    .dataframe tbody tr th:only-of-type {\n",
       "        vertical-align: middle;\n",
       "    }\n",
       "\n",
       "    .dataframe tbody tr th {\n",
       "        vertical-align: top;\n",
       "    }\n",
       "\n",
       "    .dataframe thead th {\n",
       "        text-align: right;\n",
       "    }\n",
       "</style>\n",
       "<table border=\"1\" class=\"dataframe\">\n",
       "  <thead>\n",
       "    <tr style=\"text-align: right;\">\n",
       "      <th></th>\n",
       "      <th>model</th>\n",
       "      <th>w all stop words</th>\n",
       "      <th>w/o all stop words</th>\n",
       "    </tr>\n",
       "  </thead>\n",
       "  <tbody>\n",
       "    <tr>\n",
       "      <th>0</th>\n",
       "      <td>Xgb-1gram</td>\n",
       "      <td>0.722318</td>\n",
       "      <td>0.734286</td>\n",
       "    </tr>\n",
       "    <tr>\n",
       "      <th>1</th>\n",
       "      <td>Xgb-2gram</td>\n",
       "      <td>0.722531</td>\n",
       "      <td>0.731491</td>\n",
       "    </tr>\n",
       "    <tr>\n",
       "      <th>2</th>\n",
       "      <td>Xgb-3gram</td>\n",
       "      <td>0.737466</td>\n",
       "      <td>0.762537</td>\n",
       "    </tr>\n",
       "  </tbody>\n",
       "</table>\n",
       "</div>"
      ],
      "text/plain": [
       "       model  w all stop words  w/o all stop words\n",
       "0  Xgb-1gram          0.722318            0.734286\n",
       "1  Xgb-2gram          0.722531            0.731491\n",
       "2  Xgb-3gram          0.737466            0.762537"
      ]
     },
     "metadata": {},
     "output_type": "display_data"
    }
   ],
   "source": [
    "models = ['Xgb-1gram', 'Xgb-2gram', 'Xgb-3gram']\n",
    "model_test_scores = pd.DataFrame(list(zip(models,f1_score12,f1_score22)), columns = ['model', \\\n",
    "                                'w all stop words', 'w/o all stop words'])\n",
    "display('f1-score',model_test_scores.head())"
   ]
  },
  {
   "cell_type": "code",
   "execution_count": 86,
   "id": "2993645e",
   "metadata": {},
   "outputs": [
    {
     "data": {
      "text/plain": [
       "(1700, 3000)"
      ]
     },
     "execution_count": 86,
     "metadata": {},
     "output_type": "execute_result"
    }
   ],
   "source": [
    "X_test1.shape"
   ]
  },
  {
   "cell_type": "code",
   "execution_count": 89,
   "id": "ad96fb8b",
   "metadata": {},
   "outputs": [
    {
     "name": "stdout",
     "output_type": "stream",
     "text": [
      "[0]\n",
      "[0 0 0 ... 0 0 0]\n"
     ]
    }
   ],
   "source": [
    "print(xgb_model1.predict(X_test_tfidf_tri[0]))\n",
    "print(predictions_xgb)"
   ]
  },
  {
   "cell_type": "code",
   "execution_count": 52,
   "id": "c4f14b96",
   "metadata": {},
   "outputs": [],
   "source": [
    "from sklearn.ensemble import RandomForestClassifier"
   ]
  },
  {
   "cell_type": "code",
   "execution_count": 53,
   "id": "2c1a393d",
   "metadata": {},
   "outputs": [],
   "source": [
    "acc13 = [] # Accuracy of models on CleanText1\n",
    "acc23 = [] # Accuracy of models on CleanText2\n",
    "\n",
    "f1_score13 = []\n",
    "f1_score23 = []"
   ]
  },
  {
   "cell_type": "code",
   "execution_count": 54,
   "id": "0550332f",
   "metadata": {},
   "outputs": [],
   "source": [
    "#Applying unigram technique\n",
    "tfidf_vectorizer_uni = TfidfVectorizer(max_features=3000)\n",
    "\n",
    "#Training of data with all stop words\n",
    "X_train_tfidf_uni = tfidf_vectorizer_uni.fit_transform(X1_train)\n",
    "X_test_tfidf_uni = tfidf_vectorizer_uni.transform(X1_test)\n",
    "X_train1 = X_train_tfidf_uni.toarray()\n",
    "X_test1 = X_test_tfidf_uni.toarray()\n",
    "\n",
    "clf = RandomForestClassifier(n_estimators = 100) \n",
    "clf.fit(X_train1, y1_train)\n",
    "\n",
    "predictions_clf_uni = clf.predict(X_test1)\n",
    "\n",
    "acc13.append(accuracy_score(predictions_clf_uni, y1_test)*100)\n",
    "f1_score13.append(f1_score(predictions_clf_uni,y1_test, average='weighted'))\n",
    "\n",
    "\n",
    "#Training of data without all stop words\n",
    "X_train_tfidf_uni1 = tfidf_vectorizer_uni.fit_transform(X2_train)\n",
    "X_test_tfidf_uni1 = tfidf_vectorizer_uni.transform(X2_test)\n",
    "X_train2 = X_train_tfidf_uni1.toarray()\n",
    "X_test2 = X_test_tfidf_uni1.toarray()\n",
    "\n",
    "clf = RandomForestClassifier(n_estimators = 100) \n",
    "clf.fit(X_train2, y2_train)\n",
    "\n",
    "predictions_clf_uni = clf.predict(X_test2)\n",
    "\n",
    "acc23.append(accuracy_score(predictions_clf_uni, y2_test)*100)\n",
    "f1_score23.append(f1_score(predictions_clf_uni,y2_test, average='weighted'))"
   ]
  },
  {
   "cell_type": "code",
   "execution_count": 55,
   "id": "047a5a0c",
   "metadata": {},
   "outputs": [],
   "source": [
    "# #Applying bigram technique\n",
    "# tfidf_vectorizer_bi = TfidfVectorizer(ngram_range=(2,2), max_features=10000)\n",
    "\n",
    "# #Training of data with all stop words\n",
    "# X_train_tfidf_bi = tfidf_vectorizer_bi.fit_transform(X1_train)\n",
    "# X_test_tfidf_bi = tfidf_vectorizer_bi.transform(X1_test)\n",
    "# X_train1 = X_train_tfidf_bi.toarray()\n",
    "# X_test1 = X_test_tfidf_bi.toarray()\n",
    "\n",
    "# clf = RandomForestClassifier(n_estimators = 100) \n",
    "# clf.fit(X_train1, y1_train)\n",
    "\n",
    "# predictions_clf = clf.predict(X_test1)\n",
    "\n",
    "# acc13.append(accuracy_score(predictions_clf, y1_test)*100)\n",
    "# f1_score13.append(f1_score(predictions_clf,y1_test, average='weighted'))\n",
    "\n",
    "\n",
    "# #Training of data without all stop words\n",
    "# X_train_tfidf_bi1 = tfidf_vectorizer_bi.fit_transform(X2_train)\n",
    "# X_test_tfidf_bi1 = tfidf_vectorizer_bi.transform(X2_test)\n",
    "# X_train2 = X_train_tfidf_bi1.toarray()\n",
    "# X_test2 = X_test_tfidf_bi1.toarray()\n",
    "\n",
    "# clf = RandomForestClassifier(n_estimators = 100) \n",
    "# clf.fit(X_train2, y2_train)\n",
    "\n",
    "# predictions_xgb = xgb_model1.predict(X_test2)\n",
    "\n",
    "# acc22.append(accuracy_score(predictions_xgb, y2_test)*100)\n",
    "# f1_score22.append(f1_score(predictions_xgb,y2_test, average='weighted'))"
   ]
  },
  {
   "cell_type": "code",
   "execution_count": 56,
   "id": "63b85fb9",
   "metadata": {},
   "outputs": [],
   "source": [
    "# #Applying trigram technique\n",
    "# tfidf_vectorizer_tri = TfidfVectorizer(ngram_range=(3,3), max_features=10000)\n",
    "\n",
    "# #Training of data with all stop words\n",
    "# X_train_tfidf_tri = tfidf_vectorizer_tri.fit_transform(X1_train)\n",
    "# X_test_tfidf_tri = tfidf_vectorizer_tri.transform(X1_test)\n",
    "# X_train1 = X_train_tfidf_tri.toarray()\n",
    "# X_test1 = X_test_tfidf_tri.toarray()\n",
    "\n",
    "# clf = RandomForestClassifier(n_estimators = 100) \n",
    "# clf.fit(X_train1, y1_train)\n",
    "\n",
    "# predictions_clf = clf.predict(X_test1)\n",
    "\n",
    "# acc13.append(accuracy_score(predictions_clf, y1_test)*100)\n",
    "# f1_score13.append(f1_score(predictions_clf,y1_test, average='weighted'))\n",
    "\n",
    "\n",
    "# #Training of data without all stop words\n",
    "# X_train_tfidf_tri = tfidf_vectorizer_tri.fit_transform(X2_train)\n",
    "# X_test_tfidf_tri = tfidf_vectorizer_tri.transform(X2_test)\n",
    "# X_train2 = X_train_tfidf_tri.toarray()\n",
    "# X_test2 = X_test_tfidf_tri.toarray()\n",
    "\n",
    "# clf = RandomForestClassifier(n_estimators = 100) \n",
    "# clf.fit(X_train2, y2_train)\n",
    "\n",
    "# predictions_clf = clf_model1.predict(X_test2)\n",
    "# acc23.append(accuracy_score(predictions_clf, y2_test)*100)\n",
    "# f1_score23.append(f1_score(predictions_clf,y2_test, average='weighted'))"
   ]
  },
  {
   "cell_type": "code",
   "execution_count": null,
   "id": "6a6a6945",
   "metadata": {},
   "outputs": [],
   "source": [
    "print(clf.predict(X_test1[0]))"
   ]
  },
  {
   "cell_type": "code",
   "execution_count": 57,
   "id": "7d80c1ed",
   "metadata": {},
   "outputs": [
    {
     "data": {
      "text/plain": [
       "'Accuracy'"
      ]
     },
     "metadata": {},
     "output_type": "display_data"
    },
    {
     "data": {
      "text/html": [
       "<div>\n",
       "<style scoped>\n",
       "    .dataframe tbody tr th:only-of-type {\n",
       "        vertical-align: middle;\n",
       "    }\n",
       "\n",
       "    .dataframe tbody tr th {\n",
       "        vertical-align: top;\n",
       "    }\n",
       "\n",
       "    .dataframe thead th {\n",
       "        text-align: right;\n",
       "    }\n",
       "</style>\n",
       "<table border=\"1\" class=\"dataframe\">\n",
       "  <thead>\n",
       "    <tr style=\"text-align: right;\">\n",
       "      <th></th>\n",
       "      <th>model</th>\n",
       "      <th>w all stop words</th>\n",
       "      <th>w/o all stop words</th>\n",
       "    </tr>\n",
       "  </thead>\n",
       "  <tbody>\n",
       "    <tr>\n",
       "      <th>0</th>\n",
       "      <td>Rand-1gram</td>\n",
       "      <td>62.588235</td>\n",
       "      <td>62.705882</td>\n",
       "    </tr>\n",
       "  </tbody>\n",
       "</table>\n",
       "</div>"
      ],
      "text/plain": [
       "        model  w all stop words  w/o all stop words\n",
       "0  Rand-1gram         62.588235           62.705882"
      ]
     },
     "metadata": {},
     "output_type": "display_data"
    }
   ],
   "source": [
    "models = ['Rand-1gram']\n",
    "model_test_scores = pd.DataFrame(list(zip(models,acc13,acc23)), columns = ['model', \\\n",
    "                                'w all stop words', 'w/o all stop words'])\n",
    "display(\"Accuracy\",model_test_scores.head())"
   ]
  },
  {
   "cell_type": "code",
   "execution_count": 58,
   "id": "e8589301",
   "metadata": {},
   "outputs": [
    {
     "data": {
      "text/plain": [
       "'f1-score'"
      ]
     },
     "metadata": {},
     "output_type": "display_data"
    },
    {
     "data": {
      "text/html": [
       "<div>\n",
       "<style scoped>\n",
       "    .dataframe tbody tr th:only-of-type {\n",
       "        vertical-align: middle;\n",
       "    }\n",
       "\n",
       "    .dataframe tbody tr th {\n",
       "        vertical-align: top;\n",
       "    }\n",
       "\n",
       "    .dataframe thead th {\n",
       "        text-align: right;\n",
       "    }\n",
       "</style>\n",
       "<table border=\"1\" class=\"dataframe\">\n",
       "  <thead>\n",
       "    <tr style=\"text-align: right;\">\n",
       "      <th></th>\n",
       "      <th>model</th>\n",
       "      <th>w all stop words</th>\n",
       "      <th>w/o all stop words</th>\n",
       "    </tr>\n",
       "  </thead>\n",
       "  <tbody>\n",
       "    <tr>\n",
       "      <th>0</th>\n",
       "      <td>Rand-1gram</td>\n",
       "      <td>0.644765</td>\n",
       "      <td>0.638509</td>\n",
       "    </tr>\n",
       "  </tbody>\n",
       "</table>\n",
       "</div>"
      ],
      "text/plain": [
       "        model  w all stop words  w/o all stop words\n",
       "0  Rand-1gram          0.644765            0.638509"
      ]
     },
     "metadata": {},
     "output_type": "display_data"
    }
   ],
   "source": [
    "models = ['Rand-1gram']\n",
    "model_test_scores = pd.DataFrame(list(zip(models,f1_score13,f1_score23)), columns = ['model', \\\n",
    "                                'w all stop words', 'w/o all stop words'])\n",
    "display('f1-score',model_test_scores.head())"
   ]
  },
  {
   "cell_type": "code",
   "execution_count": 59,
   "id": "8cf459cf",
   "metadata": {},
   "outputs": [],
   "source": [
    "import keras\n",
    "import tensorflow as tf\n",
    "from keras import optimizers\n",
    "from keras.models import load_model\n",
    "from keras.layers import Bidirectional\n",
    "from keras.layers.core import Reshape, Dropout\n",
    "from keras.utils.vis_utils import plot_model\n",
    "import os\n",
    "# import keras_metrics\n",
    "from keras.layers import Conv1D, MaxPooling1D, Flatten, GlobalAveragePooling3D\n",
    "from keras import regularizers \n",
    "from sklearn.metrics import confusion_matrix\n",
    "from keras import regularizers  \n",
    "from keras.applications.inception_v3 import InceptionV3\n",
    "from tensorflow.keras.layers import Dense, LSTM\n",
    "from tensorflow.keras.models import Sequential"
   ]
  },
  {
   "cell_type": "code",
   "execution_count": 60,
   "id": "bdab72b3",
   "metadata": {},
   "outputs": [],
   "source": [
    "# plot accuracy and loss\n",
    "def plot_history(history):\n",
    "    accuracy = history.history['accuracy']\n",
    "    loss = history.history['loss']\n",
    "\n",
    "    epochs = range(1, len(accuracy) + 1)\n",
    "    plt.plot(epochs, accuracy, 'bo', label='Training accuracy')\n",
    "\n",
    "    plt.title('Training and validation accuracy')\n",
    "    plt.legend()\n",
    "    plt.figure()\n",
    "\n",
    "    plt.plot(epochs, loss, 'bo', label='Training loss')\n",
    "    plt.plot(epochs, val_loss, 'b', label='Validation loss')\n",
    "    plt.title('Training and validation loss')\n",
    "    plt.legend()\n",
    "    plt.show()\n",
    "\n",
    "# plot model architecture\n",
    "def plot_model(model):\n",
    "    model.summary()\n",
    "    return tf.keras.utils.plot_model(\n",
    "    model,\n",
    "    to_file=\"model.png\",\n",
    "    show_shapes=True,\n",
    "    show_dtype=False,\n",
    "    show_layer_names=True,\n",
    "    rankdir=\"TB\",\n",
    "    expand_nested=True,\n",
    "    dpi=96,\n",
    "    layer_range=None,\n",
    "    )"
   ]
  },
  {
   "cell_type": "code",
   "execution_count": 61,
   "id": "33a1876d",
   "metadata": {},
   "outputs": [],
   "source": [
    "def build_model_1():\n",
    "    model = Sequential()\n",
    "    model.add(Dense(256, activation='relu', input_shape=(X_train1.shape[1],)))\n",
    "    model.add(Dropout(0.25))\n",
    "    model.add(Dense(128, activation='relu'))\n",
    "    model.add(Dropout(0.25))\n",
    "    model.add(Dense(1, activation='sigmoid'))\n",
    "\n",
    "    model.compile(loss='binary_crossentropy',\n",
    "            metrics=['accuracy'],\n",
    "            optimizer=optimizers.Adam(learning_rate=0.001))\n",
    "    return model"
   ]
  },
  {
   "cell_type": "code",
   "execution_count": 62,
   "id": "0d1e26ae",
   "metadata": {},
   "outputs": [
    {
     "name": "stdout",
     "output_type": "stream",
     "text": [
      "Model: \"sequential\"\n",
      "_________________________________________________________________\n",
      " Layer (type)                Output Shape              Param #   \n",
      "=================================================================\n",
      " dense (Dense)               (None, 256)               768256    \n",
      "                                                                 \n",
      " dropout (Dropout)           (None, 256)               0         \n",
      "                                                                 \n",
      " dense_1 (Dense)             (None, 128)               32896     \n",
      "                                                                 \n",
      " dropout_1 (Dropout)         (None, 128)               0         \n",
      "                                                                 \n",
      " dense_2 (Dense)             (None, 1)                 129       \n",
      "                                                                 \n",
      "=================================================================\n",
      "Total params: 801,281\n",
      "Trainable params: 801,281\n",
      "Non-trainable params: 0\n",
      "_________________________________________________________________\n",
      "You must install pydot (`pip install pydot`) and install graphviz (see instructions at https://graphviz.gitlab.io/download/) for plot_model to work.\n"
     ]
    }
   ],
   "source": [
    "model_1 = build_model_1()\n",
    "plot_model(model_1)"
   ]
  },
  {
   "cell_type": "code",
   "execution_count": 63,
   "id": "d26b8f53",
   "metadata": {},
   "outputs": [
    {
     "name": "stdout",
     "output_type": "stream",
     "text": [
      "Epoch 1/10\n",
      "425/425 [==============================] - 5s 10ms/step - loss: 0.6339 - accuracy: 0.6525\n",
      "Epoch 2/10\n",
      "425/425 [==============================] - 4s 8ms/step - loss: 0.5378 - accuracy: 0.7265\n",
      "Epoch 3/10\n",
      "425/425 [==============================] - 4s 10ms/step - loss: 0.4629 - accuracy: 0.7762\n",
      "Epoch 4/10\n",
      "425/425 [==============================] - 4s 9ms/step - loss: 0.3956 - accuracy: 0.8022\n",
      "Epoch 5/10\n",
      "425/425 [==============================] - 4s 9ms/step - loss: 0.3396 - accuracy: 0.8250\n",
      "Epoch 6/10\n",
      "425/425 [==============================] - 4s 10ms/step - loss: 0.2925 - accuracy: 0.8376\n",
      "Epoch 7/10\n",
      "425/425 [==============================] - 4s 9ms/step - loss: 0.2616 - accuracy: 0.8437\n",
      "Epoch 8/10\n",
      "425/425 [==============================] - 4s 9ms/step - loss: 0.2367 - accuracy: 0.8496\n",
      "Epoch 9/10\n",
      "425/425 [==============================] - 4s 9ms/step - loss: 0.2243 - accuracy: 0.8576\n",
      "Epoch 10/10\n",
      "425/425 [==============================] - 4s 9ms/step - loss: 0.2142 - accuracy: 0.8603\n"
     ]
    }
   ],
   "source": [
    "history = model_1.fit(\n",
    "    X_train1, y1_train, \n",
    "    epochs=10, \n",
    "    batch_size=16, \n",
    "    verbose=1, \n",
    "    shuffle=True\n",
    ")"
   ]
  },
  {
   "cell_type": "code",
   "execution_count": 64,
   "id": "9948b355",
   "metadata": {},
   "outputs": [
    {
     "data": {
      "image/png": "[encoded data removed]",
      "text/plain": [
       "<Figure size 432x288 with 1 Axes>"
      ]
     },
     "metadata": {
      "needs_background": "light"
     },
     "output_type": "display_data"
    }
   ],
   "source": [
    "plt.plot(history.history['loss'], label='train loss')\n",
    "plt.xlabel(\"epoch\")\n",
    "plt.ylabel(\"Cross-entropy loss\")\n",
    "plt.legend();"
   ]
  },
  {
   "cell_type": "code",
   "execution_count": 65,
   "id": "d1508db1",
   "metadata": {},
   "outputs": [
    {
     "data": {
      "image/png": "[encoded data removed]",
      "text/plain": [
       "<Figure size 432x288 with 1 Axes>"
      ]
     },
     "metadata": {
      "needs_background": "light"
     },
     "output_type": "display_data"
    }
   ],
   "source": [
    "plt.plot(history.history['accuracy'], label='train accuracy')\n",
    "plt.xlabel(\"epoch\")\n",
    "plt.ylabel(\"accuracy\")\n",
    "plt.legend();"
   ]
  },
  {
   "cell_type": "code",
   "execution_count": 66,
   "id": "8bbdeff7",
   "metadata": {
    "scrolled": true
   },
   "outputs": [
    {
     "name": "stdout",
     "output_type": "stream",
     "text": [
      "54/54 [==============================] - 1s 4ms/step - loss: 1.8184 - accuracy: 0.5959\n"
     ]
    },
    {
     "data": {
      "text/plain": [
       "[1.818390965461731, 0.5958823561668396]"
      ]
     },
     "execution_count": 66,
     "metadata": {},
     "output_type": "execute_result"
    }
   ],
   "source": [
    "model_1.evaluate(X_test1, y1_test)"
   ]
  },
  {
   "cell_type": "code",
   "execution_count": 101,
   "id": "35e05b05",
   "metadata": {},
   "outputs": [
    {
     "name": "stdout",
     "output_type": "stream",
     "text": [
      "54/54 [==============================] - 0s 2ms/step\n",
      "[0.8728849]\n"
     ]
    }
   ],
   "source": [
    "print(model_1.predict(X_test1)[0])"
   ]
  },
  {
   "cell_type": "code",
   "execution_count": 67,
   "id": "51ff6cb0",
   "metadata": {},
   "outputs": [],
   "source": [
    "from numpy import newaxis\n",
    "\n",
    "#(NumberOfExamples, TimeSteps, FeaturesPerStep)\n",
    "X_train_reshaped = X_train1[:, newaxis,:]\n",
    "X_test_reshaped = X_test1[:, newaxis,:]"
   ]
  },
  {
   "cell_type": "code",
   "execution_count": 68,
   "id": "33b35c41",
   "metadata": {},
   "outputs": [
    {
     "data": {
      "text/plain": [
       "(6800, 1, 3000)"
      ]
     },
     "execution_count": 68,
     "metadata": {},
     "output_type": "execute_result"
    }
   ],
   "source": [
    "X_train_reshaped.shape"
   ]
  },
  {
   "cell_type": "code",
   "execution_count": 69,
   "id": "756ab27c",
   "metadata": {
    "scrolled": true
   },
   "outputs": [
    {
     "data": {
      "text/plain": [
       "(6800,)"
      ]
     },
     "execution_count": 69,
     "metadata": {},
     "output_type": "execute_result"
    }
   ],
   "source": [
    "y1_train.shape"
   ]
  },
  {
   "cell_type": "code",
   "execution_count": 70,
   "id": "3344f9b2",
   "metadata": {},
   "outputs": [
    {
     "data": {
      "text/plain": [
       "(1, 3000)"
      ]
     },
     "execution_count": 70,
     "metadata": {},
     "output_type": "execute_result"
    }
   ],
   "source": [
    "1,X_train_reshaped.shape[2]"
   ]
  },
  {
   "cell_type": "code",
   "execution_count": 71,
   "id": "695ffb1e",
   "metadata": {},
   "outputs": [],
   "source": [
    "def build_model_lstm():\n",
    "    model = Sequential()\n",
    "    model.add(LSTM(256, activation='sigmoid', return_sequences=True,\n",
    "                 input_shape=(1,X_train_reshaped.shape[2])\n",
    "                 ))\n",
    "    model.add(Dense(128, activation='relu'))\n",
    "    model.add(Dense(1, activation='sigmoid'))\n",
    "    model.add(Flatten())\n",
    "    model.compile(loss='binary_crossentropy',\n",
    "            metrics=['accuracy'],\n",
    "            optimizer=optimizers.Adam(learning_rate=0.0005))\n",
    "    return model"
   ]
  },
  {
   "cell_type": "code",
   "execution_count": 72,
   "id": "ac486b6b",
   "metadata": {},
   "outputs": [
    {
     "name": "stdout",
     "output_type": "stream",
     "text": [
      "Model: \"sequential_1\"\n",
      "_________________________________________________________________\n",
      " Layer (type)                Output Shape              Param #   \n",
      "=================================================================\n",
      " lstm (LSTM)                 (None, 1, 256)            3335168   \n",
      "                                                                 \n",
      " dense_3 (Dense)             (None, 1, 128)            32896     \n",
      "                                                                 \n",
      " dense_4 (Dense)             (None, 1, 1)              129       \n",
      "                                                                 \n",
      " flatten (Flatten)           (None, 1)                 0         \n",
      "                                                                 \n",
      "=================================================================\n",
      "Total params: 3,368,193\n",
      "Trainable params: 3,368,193\n",
      "Non-trainable params: 0\n",
      "_________________________________________________________________\n",
      "You must install pydot (`pip install pydot`) and install graphviz (see instructions at https://graphviz.gitlab.io/download/) for plot_model to work.\n"
     ]
    }
   ],
   "source": [
    "model_lstm_1 = build_model_lstm()\n",
    "plot_model(model_lstm_1)"
   ]
  },
  {
   "cell_type": "code",
   "execution_count": 73,
   "id": "4d80093a",
   "metadata": {},
   "outputs": [
    {
     "name": "stdout",
     "output_type": "stream",
     "text": [
      "Epoch 1/10\n",
      "425/425 [==============================] - 14s 27ms/step - loss: 0.6554 - accuracy: 0.6422\n",
      "Epoch 2/10\n",
      "425/425 [==============================] - 12s 28ms/step - loss: 0.6380 - accuracy: 0.6463\n",
      "Epoch 3/10\n",
      "425/425 [==============================] - 12s 28ms/step - loss: 0.6016 - accuracy: 0.6718\n",
      "Epoch 4/10\n",
      "425/425 [==============================] - 11s 26ms/step - loss: 0.5478 - accuracy: 0.7209\n",
      "Epoch 5/10\n",
      "425/425 [==============================] - 11s 26ms/step - loss: 0.5072 - accuracy: 0.7491\n",
      "Epoch 6/10\n",
      "425/425 [==============================] - 11s 26ms/step - loss: 0.4799 - accuracy: 0.7634\n",
      "Epoch 7/10\n",
      "425/425 [==============================] - 11s 26ms/step - loss: 0.4559 - accuracy: 0.7775\n",
      "Epoch 8/10\n",
      "425/425 [==============================] - 11s 26ms/step - loss: 0.4469 - accuracy: 0.7796\n",
      "Epoch 9/10\n",
      "425/425 [==============================] - 11s 26ms/step - loss: 0.4362 - accuracy: 0.7850\n",
      "Epoch 10/10\n",
      "425/425 [==============================] - 11s 25ms/step - loss: 0.4225 - accuracy: 0.7916\n"
     ]
    }
   ],
   "source": [
    "history_lstm_1 = model_lstm_1.fit(\n",
    "    X_train_reshaped, y1_train, \n",
    "    epochs=10, \n",
    "    batch_size=16,\n",
    "    verbose=1, \n",
    "    shuffle=True # text data, safe to shuffle\n",
    ")"
   ]
  },
  {
   "cell_type": "code",
   "execution_count": 74,
   "id": "e4aba546",
   "metadata": {},
   "outputs": [],
   "source": [
    "def build_model_lstm_2():\n",
    "    model = Sequential()\n",
    "    model.add(LSTM(256, activation='relu', return_sequences=True,\n",
    "                 input_shape=(1,X_train_reshaped.shape[2])\n",
    "                 ))\n",
    "    model.add(LSTM(128, dropout=0.2, activation='relu', return_sequences=True))\n",
    "    model.add(LSTM(64, dropout=0.2, activation='relu',  return_sequences=True))\n",
    "    model.add(Dense(1, activation='sigmoid'))\n",
    "    model.add(Flatten())\n",
    "    model.compile(loss='binary_crossentropy',\n",
    "            metrics=['accuracy'],\n",
    "            optimizer=optimizers.Adam(learning_rate=0.0005))\n",
    "    return model"
   ]
  },
  {
   "cell_type": "code",
   "execution_count": 75,
   "id": "df6f60ef",
   "metadata": {},
   "outputs": [
    {
     "name": "stdout",
     "output_type": "stream",
     "text": [
      "Model: \"sequential_2\"\n",
      "_________________________________________________________________\n",
      " Layer (type)                Output Shape              Param #   \n",
      "=================================================================\n",
      " lstm_1 (LSTM)               (None, 1, 256)            3335168   \n",
      "                                                                 \n",
      " lstm_2 (LSTM)               (None, 1, 128)            197120    \n",
      "                                                                 \n",
      " lstm_3 (LSTM)               (None, 1, 64)             49408     \n",
      "                                                                 \n",
      " dense_5 (Dense)             (None, 1, 1)              65        \n",
      "                                                                 \n",
      " flatten_1 (Flatten)         (None, 1)                 0         \n",
      "                                                                 \n",
      "=================================================================\n",
      "Total params: 3,581,761\n",
      "Trainable params: 3,581,761\n",
      "Non-trainable params: 0\n",
      "_________________________________________________________________\n",
      "You must install pydot (`pip install pydot`) and install graphviz (see instructions at https://graphviz.gitlab.io/download/) for plot_model to work.\n"
     ]
    }
   ],
   "source": [
    "model_lstm_2 = build_model_lstm_2()\n",
    "plot_model(model_lstm_2)"
   ]
  },
  {
   "cell_type": "code",
   "execution_count": 76,
   "id": "970bc3d4",
   "metadata": {
    "scrolled": true
   },
   "outputs": [
    {
     "name": "stdout",
     "output_type": "stream",
     "text": [
      "Epoch 1/10\n",
      "383/383 [==============================] - 20s 33ms/step - loss: 0.6515 - accuracy: 0.6443 - val_loss: 0.6388 - val_accuracy: 0.6353\n",
      "Epoch 2/10\n",
      "383/383 [==============================] - 12s 31ms/step - loss: 0.5764 - accuracy: 0.6686 - val_loss: 0.6444 - val_accuracy: 0.6603\n",
      "Epoch 3/10\n",
      "383/383 [==============================] - 12s 31ms/step - loss: 0.5049 - accuracy: 0.7431 - val_loss: 0.6994 - val_accuracy: 0.6265\n",
      "Epoch 4/10\n",
      "383/383 [==============================] - 12s 31ms/step - loss: 0.4534 - accuracy: 0.7716 - val_loss: 0.8105 - val_accuracy: 0.6221\n",
      "Epoch 5/10\n",
      "383/383 [==============================] - 12s 31ms/step - loss: 0.4143 - accuracy: 0.7964 - val_loss: 0.8943 - val_accuracy: 0.5750\n",
      "Epoch 6/10\n",
      "383/383 [==============================] - 12s 31ms/step - loss: 0.3812 - accuracy: 0.8127 - val_loss: 1.0102 - val_accuracy: 0.5971\n",
      "Epoch 7/10\n",
      "383/383 [==============================] - 12s 31ms/step - loss: 0.3426 - accuracy: 0.8301 - val_loss: 1.0737 - val_accuracy: 0.5809\n",
      "Epoch 8/10\n",
      "383/383 [==============================] - 11s 28ms/step - loss: 0.3095 - accuracy: 0.8395 - val_loss: 1.2917 - val_accuracy: 0.5971\n",
      "Epoch 9/10\n",
      "383/383 [==============================] - 11s 28ms/step - loss: 0.2818 - accuracy: 0.8500 - val_loss: 1.3811 - val_accuracy: 0.5574\n",
      "Epoch 10/10\n",
      "383/383 [==============================] - 11s 28ms/step - loss: 0.2595 - accuracy: 0.8508 - val_loss: 1.4617 - val_accuracy: 0.5706\n"
     ]
    }
   ],
   "source": [
    "history = model_lstm_2.fit(\n",
    "    X_train_reshaped, y1_train, \n",
    "    epochs=10, \n",
    "    batch_size=16, \n",
    "    validation_split=0.1, \n",
    "    verbose=1, \n",
    "    shuffle=True\n",
    ")"
   ]
  },
  {
   "cell_type": "code",
   "execution_count": 77,
   "id": "44b808ba",
   "metadata": {},
   "outputs": [
    {
     "name": "stdout",
     "output_type": "stream",
     "text": [
      "54/54 [==============================] - 0s 7ms/step - loss: 1.2982 - accuracy: 0.6000\n"
     ]
    },
    {
     "data": {
      "text/plain": [
       "[1.2981761693954468, 0.6000000238418579]"
      ]
     },
     "execution_count": 77,
     "metadata": {},
     "output_type": "execute_result"
    }
   ],
   "source": [
    "model_lstm_2.evaluate(X_test_reshaped, y1_test)"
   ]
  },
  {
   "cell_type": "code",
   "execution_count": 78,
   "id": "6e7d7212",
   "metadata": {},
   "outputs": [
    {
     "name": "stdout",
     "output_type": "stream",
     "text": [
      "54/54 [==============================] - 1s 5ms/step - loss: 0.7586 - accuracy: 0.6047\n"
     ]
    },
    {
     "data": {
      "text/plain": [
       "[0.7585991621017456, 0.6047058701515198]"
      ]
     },
     "execution_count": 78,
     "metadata": {},
     "output_type": "execute_result"
    }
   ],
   "source": [
    "model_lstm_1.evaluate(X_test_reshaped, y1_test)"
   ]
  },
  {
   "cell_type": "code",
   "execution_count": 79,
   "id": "32dc04fe",
   "metadata": {},
   "outputs": [
    {
     "data": {
      "text/plain": [
       "'Accuracy'"
      ]
     },
     "metadata": {},
     "output_type": "display_data"
    },
    {
     "data": {
      "text/html": [
       "<div>\n",
       "<style scoped>\n",
       "    .dataframe tbody tr th:only-of-type {\n",
       "        vertical-align: middle;\n",
       "    }\n",
       "\n",
       "    .dataframe tbody tr th {\n",
       "        vertical-align: top;\n",
       "    }\n",
       "\n",
       "    .dataframe thead th {\n",
       "        text-align: right;\n",
       "    }\n",
       "</style>\n",
       "<table border=\"1\" class=\"dataframe\">\n",
       "  <thead>\n",
       "    <tr style=\"text-align: right;\">\n",
       "      <th></th>\n",
       "      <th>model</th>\n",
       "      <th>accuracy</th>\n",
       "    </tr>\n",
       "  </thead>\n",
       "  <tbody>\n",
       "    <tr>\n",
       "      <th>0</th>\n",
       "      <td>Naive-1gram</td>\n",
       "      <td>41.235294</td>\n",
       "    </tr>\n",
       "    <tr>\n",
       "      <th>1</th>\n",
       "      <td>Naive-2gram</td>\n",
       "      <td>41.941176</td>\n",
       "    </tr>\n",
       "    <tr>\n",
       "      <th>2</th>\n",
       "      <td>Naive-3gram</td>\n",
       "      <td>37.764706</td>\n",
       "    </tr>\n",
       "  </tbody>\n",
       "</table>\n",
       "</div>"
      ],
      "text/plain": [
       "         model   accuracy\n",
       "0  Naive-1gram  41.235294\n",
       "1  Naive-2gram  41.941176\n",
       "2  Naive-3gram  37.764706"
      ]
     },
     "metadata": {},
     "output_type": "display_data"
    },
    {
     "name": "stdout",
     "output_type": "stream",
     "text": [
      "[[70.47058823529412, 61.588235294117645, 61.82352941176471], [41.23529411764706, 41.94117647058824, 37.76470588235294], [69.70588235294117, 64.52941176470588, 62.23529411764706]]\n"
     ]
    }
   ],
   "source": [
    "models = ['Naive-1gram', 'Naive-2gram', 'Naive-3gram']\n",
    "model_test_scores = pd.DataFrame(list(zip(models,acc11)), columns = ['model', \\\n",
    "                                'accuracy'])\n",
    "display(\"Accuracy\",model_test_scores.head())\n",
    "accuracy.append(acc1)\n",
    "accuracy.append(acc11)\n",
    "accuracy.append(acc12)\n",
    "print(accuracy)"
   ]
  },
  {
   "cell_type": "code",
   "execution_count": 105,
   "id": "2fc5baf9",
   "metadata": {},
   "outputs": [
    {
     "name": "stdout",
     "output_type": "stream",
     "text": [
      "54/54 [==============================] - 0s 5ms/step\n",
      "[0.79822034]\n"
     ]
    }
   ],
   "source": [
    "print(model_lstm_1.predict(X_test_reshaped)[0])"
   ]
  },
  {
   "cell_type": "code",
   "execution_count": null,
   "id": "590b7531",
   "metadata": {},
   "outputs": [],
   "source": []
  }
 ],
 "metadata": {
  "kernelspec": {
   "display_name": "Python 3 (ipykernel)",
   "language": "python",
   "name": "python3"
  },
  "language_info": {
   "codemirror_mode": {
    "name": "ipython",
    "version": 3
   },
   "file_extension": ".py",
   "mimetype": "text/x-python",
   "name": "python",
   "nbconvert_exporter": "python",
   "pygments_lexer": "ipython3",
   "version": "3.9.7"
  }
 },
 "nbformat": 4,
 "nbformat_minor": 5
}
